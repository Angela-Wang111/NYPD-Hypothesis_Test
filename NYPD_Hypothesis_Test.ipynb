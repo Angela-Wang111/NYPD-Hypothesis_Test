{
 "cells": [
  {
   "cell_type": "markdown",
   "metadata": {},
   "source": [
    "# NYPD Civilian Complaints"
   ]
  },
  {
   "cell_type": "markdown",
   "metadata": {},
   "source": [
    "# Summary of Findings\n",
    "\n",
    "### Introduction"
   ]
  },
  {
   "cell_type": "markdown",
   "metadata": {},
   "source": [
    "This dataset contains 33,358 records with 27 attributes of civilian complains filed against New York City police officers ranged from Septemer 1985 to January 2020. All the records are closed cases which are reviewed and also provided by the New York City’s Civilian Complaint Review Board. All the police officers in this dataset are still on the force as of late June 2020 who had at least one substantiated allegation against them. This dataset includes some basic information about the police officers and complainants for example ethinicity, gender and position; it also includes information about complains themselves like time and the type of the complains (\"fado_type\" and \"allegation\") as well as the reviewd result (\"board_disposition\"). \n",
    "<br>\n",
    "<br>\n",
    "The question we are investigating is $\\textbf{After getting at least one substantiated allegation,}$ \n",
    "$\\textbf{does the promotion depend on the ethnicity of the police officers?}$  The information related to our quesiton the most is the ethinicity of the police officers, the reviewd result of the complains, and whether the police get promoted (measured by the change in their rank) after having a substantiated allegation. "
   ]
  },
  {
   "cell_type": "markdown",
   "metadata": {},
   "source": [
    "### Cleaning and EDA\n"
   ]
  },
  {
   "cell_type": "markdown",
   "metadata": {},
   "source": [
    "#### 1. Replacing the values that should be NaN.\n",
    "<br>\n",
    "After checking the unique values for all the columns, we find that 'complainant_ethnicity','complainant_gender', 'complainant_age_incident', 'precinct' all have values that should be NaN. These values might be \"Unknown\", \"Refused\", \"Not described\", or numbers that are not valid. One thing to notice is that the column \"shield_no\" which represents the shield number of the police officers also contains number that are not valid for a shield number. However, since it's hard to find the exact valid range for NYPD shield number and this columns is not related to our question, we choose to leave the column as what it is.\n",
    "\n",
    "#### 2. Adding columns that are suitable for investing our question\n",
    "<br>\n",
    "As mentioned in the introdution, the information related to our quesiton the most is the ethinicity of the police officers, the reviewd result of the complains, and whether the police get promoted (measured by the change in their rank) after having a substantiated allegation.  \n",
    "<br>\n",
    "<br>\n",
    "- For the reviewd result of the complains, the column \"board_disposition\" have values \"Unsubstantiated\", \"Exonerated\", and different types of \"Substantiated\". To integrate the substantiated cases, we add a new columns \"Result_ues\" to categorize the result as \"Unsubstantiated\", \"Exonerated\", and \"Substantiated\". Since we only need to analyze the result of the \"Substantiated\" cases, we add a new columns \"Result\" to split the values as \"Substantiated\" and \"Not substantiated\". \n",
    "<br>\n",
    "<br>\n",
    "- For the promotion of the police officers, we assign a int for different positions listed in columns \"rank_abbrev_incident\" and \"rank_abbrev_now\" according to the appendix \"CCRB Data Layout Table\". There are some ambiguous in the rank like the difference between \"SSA/Sergeant Special Assignment\" and \"SDS/Sergeant Detective Squad\" is unclear and we cannot find any explaination online. Checking on the result of the dataset, most of the police officers who have a \"SDS\" as current rank had a \"SSA\" in the past. Since most of the police officers are still promoted instead of demotion, we assign the \"SDS\" with a higher rank number compares to \"SSA\". In addtion, two abbreviation \"DET\" and \"CCC\" are not present in the appendix. After some online search, we conclude that \"DET\" is an old police rank used by NYPD representing \"Detective\" which is not in the present polic rank. Since we could not find the corresponding rank as this rank is splited into thre grades - DT3, DT2, DT1, we just assign it as DT1. The abbreviation \"CCC\" is only used by one police officer who is the Chief of Crime Control Strategies. Thus, we assign it with the same rank number as all the other chiefs. In a word, all chiefs are labeled level 21(the same level). In addition, we add another columns \"promoted\" to show whether the police officer get promoted as \"True\" and \"False\".\n",
    "<br>\n",
    "<br>\n",
    "$\\ast$ Overall, the rank numbers we assign to the ranks have some ambiguity and it might affect the result of the analysis of our hypothesis test. However, as the police officers who have vague promotion status are not significant in number, we do not expect the influence on our analysis will be huge.\n",
    "\n",
    "#### 3. Univariate Analysis\n",
    "Specific to this question, we've plot \n",
    "- the distribution of the officers' ethinicity as \"Hispanic\", \"White\", \"Black\", \"Asian\" and \"American Indian\".\n",
    "- the distribution of review result as \"Substantiated\", \"Unsubstantiated\", and \"Exonerated\"\n",
    "- the distribution of review result as \"Substantiated\" and \"Not substantiated\" (\"Unsubstantiated\" and \"Exonerated\" combined)\n",
    "- the distribution of the promotion status\n",
    "\n",
    "#### 4. Bivariate Analysis\n",
    "Specific to this question, we've plot\n",
    "- the pivot table of officers' ethinicity vs rank_abbrev_incident (rank abbreviation when the complains took place)\n",
    "- the pivot table of officers' ethinicity vs rank_abbrev_now (current rank abbreviation)\n",
    "- the distribution of the review result (3 categories) with respect to the ethinicity of officers \n",
    "- the distribution of the review results (2 categories) with respect to ethnicity of officers\n",
    "- the distribution of the officer ethnicity with respect to promotion status for all cases\n",
    "- the distribution of the officer ethnicity with respect to promotion status for substantiated cases\n",
    "\n",
    "#### 5. Interesting Aggregation\n",
    "Each row of the original dataset represents a complaint. However, many of the officers have more than one reported complaints. Since we are investigating with the unit of police officers, we have to aggregate the dataset into each police officers by their unique_mos_id. Then, if an officer have got a promotion after at least one substantiated allegation, the officer's promotion_status is marked as True, and vise versa. Then, we could explore the dependency of promotion on ethnicity of officers after having a substantiated record."
   ]
  },
  {
   "cell_type": "markdown",
   "metadata": {},
   "source": [
    "### Assessment of Missingness\n"
   ]
  },
  {
   "cell_type": "markdown",
   "metadata": {
    "ExecuteTime": {
     "end_time": "2019-10-31T23:36:28.662099Z",
     "start_time": "2019-10-31T23:36:28.660016Z"
    }
   },
   "source": [
    "* We looked at all the columns with missing values at first, and try to decide which ones might be NMAR.\n",
    "  - We think the outcome description is NMAR because it is not likely to be dependent on other observed columns and complainants might be less likely to report their case outcome since it might reduce their credential if they are arrested in the end. Additional data to obtain that could explain missingness make it MAR: whether the complainant ended up in jail, since being in jail implies that they are arrested and thus might be less likely to include it\n",
    " \n",
    " \n",
    "* We then wrote a function MAR to calculate the p-value between the missingness of precinct with values of other columns.\n",
    "  - We set the cutoff of significant p-value to be 0.05, since it is the convention of a lot of scientific papers and it keeps type I error small.\n",
    "  - We are trying to use permutation test to see if the distribution of the missing values of outcome_description is statistically \"similar enough\" across different categories of the input column. If so, then the missingness of outcome_description is not dependent on that column.\n",
    "  - We found that the p-value between missingness of outcome_description and 'mos_gender' is 0.073, meaning that, in 1000 trials, 7.3% of the time, with random permutation, we see a tvd at least as extreme as the observed one, meaning the distribuion of missingness is relatively \"similar enough\" between categories of mos_gender. Outcome_description missingness is not dependent on mos_gender. \n",
    "  - We found that the p-value between missingness of outcome_description and 'year_received' is 0.0, meaning that in 1000 trials of permutation, 0.0% of the time we see a tvd at least as extreme as the observed one, meaning the distribuion of missingness is not similar at all between categories of 'year_received'. Outcome_description missingness is dependent on 'year_received'. \n",
    "\n",
    "\n",
    "* We are not directly using \"outcome_description\", \"year_received\", or \"mos_gender\" columns in our analysis, thus the missingness should not affect our investigation greatly. (All of our used columns do not have missing values) However, we can reason that 'outcome_description' is dependent on 'year_received' because the older reports tend not to have a lot of details, and it is independent with mos_gender because the missingness is not related to the gender of police officer."
   ]
  },
  {
   "cell_type": "markdown",
   "metadata": {},
   "source": [
    "### Hypothesis Test"
   ]
  },
  {
   "cell_type": "markdown",
   "metadata": {},
   "source": [
    "* Null hypothesis: After getting at least one substantiated allegation, the promotion does not depend on the ethnicity of the police officers.\n",
    "* Alternative hypothesis: After getting at least one substantiated allegation, the promotion depends on the ethnicity of the police officers.\n",
    "\n",
    "\n",
    "* Our test statistics: Total Variation Distance of promotion rate between five categories of officers: 'Hispanic', 'White', 'Black', 'Asian', and 'American Indian'. The reason why we chose permutation test is because we are comparing two distinct distributions: promoted vs not promoted. We choose TVD because the ethnicity of police officers is categorical. \n",
    "* We use a significance level of 0.05 because it is commonly used in academia and there is no specific reason for us to lower the level or set it higher.\n",
    "\n",
    "\n",
    "* We are only using the substantiated case here since we do not count a promotion before a substantiated allegation as a promotion here.\n",
    "* The procedure of the permutation test is that we firstly get the observed statistics of the original dataset, then we shuffle the promotion status (True/False) for 1000 times and get the test statistics (TVD) for each simulation.\n",
    "\n",
    "\n",
    "* The resulting p-value we get from permutation test is 0.0, meaning over 1000 trials of random shuffling, 0.0% of the tvd is the same or more extreme as the observed one. It means the observed TVD is significantly big and we reject the null hypothesis. The intepretation of this result is that after getting at least one substantiated allegation, the prmotion depends on the ethnicity of the police officers."
   ]
  },
  {
   "cell_type": "markdown",
   "metadata": {},
   "source": [
    "# Code"
   ]
  },
  {
   "cell_type": "code",
   "execution_count": 82,
   "metadata": {
    "ExecuteTime": {
     "end_time": "2019-10-31T23:36:28.652554Z",
     "start_time": "2019-10-31T23:36:27.180520Z"
    }
   },
   "outputs": [],
   "source": [
    "import matplotlib.pyplot as plt\n",
    "import numpy as np\n",
    "import os\n",
    "import pandas as pd\n",
    "import seaborn as sns\n",
    "%matplotlib inline\n",
    "%config InlineBackend.figure_format = 'retina'  # Higher resolution figures"
   ]
  },
  {
   "cell_type": "code",
   "execution_count": 83,
   "metadata": {},
   "outputs": [
    {
     "data": {
      "text/html": [
       "<div>\n",
       "<style scoped>\n",
       "    .dataframe tbody tr th:only-of-type {\n",
       "        vertical-align: middle;\n",
       "    }\n",
       "\n",
       "    .dataframe tbody tr th {\n",
       "        vertical-align: top;\n",
       "    }\n",
       "\n",
       "    .dataframe thead th {\n",
       "        text-align: right;\n",
       "    }\n",
       "</style>\n",
       "<table border=\"1\" class=\"dataframe\">\n",
       "  <thead>\n",
       "    <tr style=\"text-align: right;\">\n",
       "      <th></th>\n",
       "      <th>unique_mos_id</th>\n",
       "      <th>first_name</th>\n",
       "      <th>last_name</th>\n",
       "      <th>command_now</th>\n",
       "      <th>shield_no</th>\n",
       "      <th>complaint_id</th>\n",
       "      <th>month_received</th>\n",
       "      <th>year_received</th>\n",
       "      <th>month_closed</th>\n",
       "      <th>year_closed</th>\n",
       "      <th>...</th>\n",
       "      <th>mos_age_incident</th>\n",
       "      <th>complainant_ethnicity</th>\n",
       "      <th>complainant_gender</th>\n",
       "      <th>complainant_age_incident</th>\n",
       "      <th>fado_type</th>\n",
       "      <th>allegation</th>\n",
       "      <th>precinct</th>\n",
       "      <th>contact_reason</th>\n",
       "      <th>outcome_description</th>\n",
       "      <th>board_disposition</th>\n",
       "    </tr>\n",
       "  </thead>\n",
       "  <tbody>\n",
       "    <tr>\n",
       "      <th>0</th>\n",
       "      <td>10004</td>\n",
       "      <td>Jonathan</td>\n",
       "      <td>Ruiz</td>\n",
       "      <td>078 PCT</td>\n",
       "      <td>8409</td>\n",
       "      <td>42835</td>\n",
       "      <td>7</td>\n",
       "      <td>2019</td>\n",
       "      <td>5</td>\n",
       "      <td>2020</td>\n",
       "      <td>...</td>\n",
       "      <td>32</td>\n",
       "      <td>Black</td>\n",
       "      <td>Female</td>\n",
       "      <td>38.0</td>\n",
       "      <td>Abuse of Authority</td>\n",
       "      <td>Failure to provide RTKA card</td>\n",
       "      <td>78.0</td>\n",
       "      <td>Report-domestic dispute</td>\n",
       "      <td>No arrest made or summons issued</td>\n",
       "      <td>Substantiated (Command Lvl Instructions)</td>\n",
       "    </tr>\n",
       "    <tr>\n",
       "      <th>1</th>\n",
       "      <td>10007</td>\n",
       "      <td>John</td>\n",
       "      <td>Sears</td>\n",
       "      <td>078 PCT</td>\n",
       "      <td>5952</td>\n",
       "      <td>24601</td>\n",
       "      <td>11</td>\n",
       "      <td>2011</td>\n",
       "      <td>8</td>\n",
       "      <td>2012</td>\n",
       "      <td>...</td>\n",
       "      <td>24</td>\n",
       "      <td>Black</td>\n",
       "      <td>Male</td>\n",
       "      <td>26.0</td>\n",
       "      <td>Discourtesy</td>\n",
       "      <td>Action</td>\n",
       "      <td>67.0</td>\n",
       "      <td>Moving violation</td>\n",
       "      <td>Moving violation summons issued</td>\n",
       "      <td>Substantiated (Charges)</td>\n",
       "    </tr>\n",
       "    <tr>\n",
       "      <th>2</th>\n",
       "      <td>10007</td>\n",
       "      <td>John</td>\n",
       "      <td>Sears</td>\n",
       "      <td>078 PCT</td>\n",
       "      <td>5952</td>\n",
       "      <td>24601</td>\n",
       "      <td>11</td>\n",
       "      <td>2011</td>\n",
       "      <td>8</td>\n",
       "      <td>2012</td>\n",
       "      <td>...</td>\n",
       "      <td>24</td>\n",
       "      <td>Black</td>\n",
       "      <td>Male</td>\n",
       "      <td>26.0</td>\n",
       "      <td>Offensive Language</td>\n",
       "      <td>Race</td>\n",
       "      <td>67.0</td>\n",
       "      <td>Moving violation</td>\n",
       "      <td>Moving violation summons issued</td>\n",
       "      <td>Substantiated (Charges)</td>\n",
       "    </tr>\n",
       "    <tr>\n",
       "      <th>3</th>\n",
       "      <td>10007</td>\n",
       "      <td>John</td>\n",
       "      <td>Sears</td>\n",
       "      <td>078 PCT</td>\n",
       "      <td>5952</td>\n",
       "      <td>26146</td>\n",
       "      <td>7</td>\n",
       "      <td>2012</td>\n",
       "      <td>9</td>\n",
       "      <td>2013</td>\n",
       "      <td>...</td>\n",
       "      <td>25</td>\n",
       "      <td>Black</td>\n",
       "      <td>Male</td>\n",
       "      <td>45.0</td>\n",
       "      <td>Abuse of Authority</td>\n",
       "      <td>Question</td>\n",
       "      <td>67.0</td>\n",
       "      <td>PD suspected C/V of violation/crime - street</td>\n",
       "      <td>No arrest made or summons issued</td>\n",
       "      <td>Substantiated (Charges)</td>\n",
       "    </tr>\n",
       "    <tr>\n",
       "      <th>4</th>\n",
       "      <td>10009</td>\n",
       "      <td>Noemi</td>\n",
       "      <td>Sierra</td>\n",
       "      <td>078 PCT</td>\n",
       "      <td>24058</td>\n",
       "      <td>40253</td>\n",
       "      <td>8</td>\n",
       "      <td>2018</td>\n",
       "      <td>2</td>\n",
       "      <td>2019</td>\n",
       "      <td>...</td>\n",
       "      <td>39</td>\n",
       "      <td>NaN</td>\n",
       "      <td>NaN</td>\n",
       "      <td>16.0</td>\n",
       "      <td>Force</td>\n",
       "      <td>Physical force</td>\n",
       "      <td>67.0</td>\n",
       "      <td>Report-dispute</td>\n",
       "      <td>Arrest - other violation/crime</td>\n",
       "      <td>Substantiated (Command Discipline A)</td>\n",
       "    </tr>\n",
       "  </tbody>\n",
       "</table>\n",
       "<p>5 rows × 27 columns</p>\n",
       "</div>"
      ],
      "text/plain": [
       "   unique_mos_id first_name last_name command_now  shield_no  complaint_id  \\\n",
       "0          10004   Jonathan      Ruiz     078 PCT       8409         42835   \n",
       "1          10007       John     Sears     078 PCT       5952         24601   \n",
       "2          10007       John     Sears     078 PCT       5952         24601   \n",
       "3          10007       John     Sears     078 PCT       5952         26146   \n",
       "4          10009      Noemi    Sierra     078 PCT      24058         40253   \n",
       "\n",
       "   month_received  year_received  month_closed  year_closed  ...  \\\n",
       "0               7           2019             5         2020  ...   \n",
       "1              11           2011             8         2012  ...   \n",
       "2              11           2011             8         2012  ...   \n",
       "3               7           2012             9         2013  ...   \n",
       "4               8           2018             2         2019  ...   \n",
       "\n",
       "  mos_age_incident complainant_ethnicity complainant_gender  \\\n",
       "0               32                 Black             Female   \n",
       "1               24                 Black               Male   \n",
       "2               24                 Black               Male   \n",
       "3               25                 Black               Male   \n",
       "4               39                   NaN                NaN   \n",
       "\n",
       "  complainant_age_incident           fado_type                    allegation  \\\n",
       "0                     38.0  Abuse of Authority  Failure to provide RTKA card   \n",
       "1                     26.0         Discourtesy                        Action   \n",
       "2                     26.0  Offensive Language                          Race   \n",
       "3                     45.0  Abuse of Authority                      Question   \n",
       "4                     16.0               Force                Physical force   \n",
       "\n",
       "  precinct                                contact_reason  \\\n",
       "0     78.0                       Report-domestic dispute   \n",
       "1     67.0                              Moving violation   \n",
       "2     67.0                              Moving violation   \n",
       "3     67.0  PD suspected C/V of violation/crime - street   \n",
       "4     67.0                                Report-dispute   \n",
       "\n",
       "                outcome_description                         board_disposition  \n",
       "0  No arrest made or summons issued  Substantiated (Command Lvl Instructions)  \n",
       "1   Moving violation summons issued                   Substantiated (Charges)  \n",
       "2   Moving violation summons issued                   Substantiated (Charges)  \n",
       "3  No arrest made or summons issued                   Substantiated (Charges)  \n",
       "4    Arrest - other violation/crime      Substantiated (Command Discipline A)  \n",
       "\n",
       "[5 rows x 27 columns]"
      ]
     },
     "execution_count": 83,
     "metadata": {},
     "output_type": "execute_result"
    }
   ],
   "source": [
    "nypd = pd.read_csv('allegations_202007271729.csv')\n",
    "nypd.head()"
   ]
  },
  {
   "cell_type": "code",
   "execution_count": 84,
   "metadata": {},
   "outputs": [
    {
     "data": {
      "text/plain": [
       "array(['Hispanic', 'White', 'Black', 'Asian', 'American Indian'],\n",
       "      dtype=object)"
      ]
     },
     "execution_count": 84,
     "metadata": {},
     "output_type": "execute_result"
    }
   ],
   "source": [
    "nypd[\"mos_ethnicity\"].unique()"
   ]
  },
  {
   "cell_type": "markdown",
   "metadata": {},
   "source": [
    "### Cleaning and EDA"
   ]
  },
  {
   "cell_type": "markdown",
   "metadata": {},
   "source": [
    "#### 1. Replacing values with NaN when appropriated\n",
    "- \"complainant_ethinicity\" has values \"Unknown\" and \"Refused\"\n",
    "- \"complainant_gender\" has value \"Not described\"\n",
    "- we consider negative value (impossible) and value under 6 (not likely since the children are too young) for \"complainant_age_incident\" as invalid\n",
    "- for the numbers appeared in the dataset, 0 and 1000 are invalid precinct numbers"
   ]
  },
  {
   "cell_type": "code",
   "execution_count": 85,
   "metadata": {
    "ExecuteTime": {
     "end_time": "2019-10-31T23:36:28.657068Z",
     "start_time": "2019-10-31T23:36:28.654650Z"
    }
   },
   "outputs": [],
   "source": [
    "# replacing values in 'complainant_ethnicity','complainant_gender', 'complainant_age_incident', 'precinct'\n",
    "replaced = nypd.copy()\n",
    "replaced['complainant_ethnicity'] = replaced['complainant_ethnicity'].replace(['Unknown', 'Refused'], np.nan)\n",
    "replaced['complainant_gender'] = replaced['complainant_gender'].replace(['Not described'], np.nan)\n",
    "replaced['complainant_age_incident'] = replaced['complainant_age_incident'].apply(lambda x: np.nan if x < 6 else x)\n",
    "replaced['precinct'] = replaced['precinct'].apply(lambda x: np.nan if x == 1000 or x == 0 else x)"
   ]
  },
  {
   "cell_type": "code",
   "execution_count": 86,
   "metadata": {},
   "outputs": [
    {
     "data": {
      "text/html": [
       "<div>\n",
       "<style scoped>\n",
       "    .dataframe tbody tr th:only-of-type {\n",
       "        vertical-align: middle;\n",
       "    }\n",
       "\n",
       "    .dataframe tbody tr th {\n",
       "        vertical-align: top;\n",
       "    }\n",
       "\n",
       "    .dataframe thead th {\n",
       "        text-align: right;\n",
       "    }\n",
       "</style>\n",
       "<table border=\"1\" class=\"dataframe\">\n",
       "  <thead>\n",
       "    <tr style=\"text-align: right;\">\n",
       "      <th></th>\n",
       "      <th>unique_mos_id</th>\n",
       "      <th>first_name</th>\n",
       "      <th>last_name</th>\n",
       "      <th>command_now</th>\n",
       "      <th>shield_no</th>\n",
       "      <th>complaint_id</th>\n",
       "      <th>month_received</th>\n",
       "      <th>year_received</th>\n",
       "      <th>month_closed</th>\n",
       "      <th>year_closed</th>\n",
       "      <th>...</th>\n",
       "      <th>mos_age_incident</th>\n",
       "      <th>complainant_ethnicity</th>\n",
       "      <th>complainant_gender</th>\n",
       "      <th>complainant_age_incident</th>\n",
       "      <th>fado_type</th>\n",
       "      <th>allegation</th>\n",
       "      <th>precinct</th>\n",
       "      <th>contact_reason</th>\n",
       "      <th>outcome_description</th>\n",
       "      <th>board_disposition</th>\n",
       "    </tr>\n",
       "  </thead>\n",
       "  <tbody>\n",
       "    <tr>\n",
       "      <th>0</th>\n",
       "      <td>10004</td>\n",
       "      <td>Jonathan</td>\n",
       "      <td>Ruiz</td>\n",
       "      <td>078 PCT</td>\n",
       "      <td>8409</td>\n",
       "      <td>42835</td>\n",
       "      <td>7</td>\n",
       "      <td>2019</td>\n",
       "      <td>5</td>\n",
       "      <td>2020</td>\n",
       "      <td>...</td>\n",
       "      <td>32</td>\n",
       "      <td>Black</td>\n",
       "      <td>Female</td>\n",
       "      <td>38.0</td>\n",
       "      <td>Abuse of Authority</td>\n",
       "      <td>Failure to provide RTKA card</td>\n",
       "      <td>78.0</td>\n",
       "      <td>Report-domestic dispute</td>\n",
       "      <td>No arrest made or summons issued</td>\n",
       "      <td>Substantiated (Command Lvl Instructions)</td>\n",
       "    </tr>\n",
       "    <tr>\n",
       "      <th>1</th>\n",
       "      <td>10007</td>\n",
       "      <td>John</td>\n",
       "      <td>Sears</td>\n",
       "      <td>078 PCT</td>\n",
       "      <td>5952</td>\n",
       "      <td>24601</td>\n",
       "      <td>11</td>\n",
       "      <td>2011</td>\n",
       "      <td>8</td>\n",
       "      <td>2012</td>\n",
       "      <td>...</td>\n",
       "      <td>24</td>\n",
       "      <td>Black</td>\n",
       "      <td>Male</td>\n",
       "      <td>26.0</td>\n",
       "      <td>Discourtesy</td>\n",
       "      <td>Action</td>\n",
       "      <td>67.0</td>\n",
       "      <td>Moving violation</td>\n",
       "      <td>Moving violation summons issued</td>\n",
       "      <td>Substantiated (Charges)</td>\n",
       "    </tr>\n",
       "    <tr>\n",
       "      <th>2</th>\n",
       "      <td>10007</td>\n",
       "      <td>John</td>\n",
       "      <td>Sears</td>\n",
       "      <td>078 PCT</td>\n",
       "      <td>5952</td>\n",
       "      <td>24601</td>\n",
       "      <td>11</td>\n",
       "      <td>2011</td>\n",
       "      <td>8</td>\n",
       "      <td>2012</td>\n",
       "      <td>...</td>\n",
       "      <td>24</td>\n",
       "      <td>Black</td>\n",
       "      <td>Male</td>\n",
       "      <td>26.0</td>\n",
       "      <td>Offensive Language</td>\n",
       "      <td>Race</td>\n",
       "      <td>67.0</td>\n",
       "      <td>Moving violation</td>\n",
       "      <td>Moving violation summons issued</td>\n",
       "      <td>Substantiated (Charges)</td>\n",
       "    </tr>\n",
       "    <tr>\n",
       "      <th>3</th>\n",
       "      <td>10007</td>\n",
       "      <td>John</td>\n",
       "      <td>Sears</td>\n",
       "      <td>078 PCT</td>\n",
       "      <td>5952</td>\n",
       "      <td>26146</td>\n",
       "      <td>7</td>\n",
       "      <td>2012</td>\n",
       "      <td>9</td>\n",
       "      <td>2013</td>\n",
       "      <td>...</td>\n",
       "      <td>25</td>\n",
       "      <td>Black</td>\n",
       "      <td>Male</td>\n",
       "      <td>45.0</td>\n",
       "      <td>Abuse of Authority</td>\n",
       "      <td>Question</td>\n",
       "      <td>67.0</td>\n",
       "      <td>PD suspected C/V of violation/crime - street</td>\n",
       "      <td>No arrest made or summons issued</td>\n",
       "      <td>Substantiated (Charges)</td>\n",
       "    </tr>\n",
       "    <tr>\n",
       "      <th>4</th>\n",
       "      <td>10009</td>\n",
       "      <td>Noemi</td>\n",
       "      <td>Sierra</td>\n",
       "      <td>078 PCT</td>\n",
       "      <td>24058</td>\n",
       "      <td>40253</td>\n",
       "      <td>8</td>\n",
       "      <td>2018</td>\n",
       "      <td>2</td>\n",
       "      <td>2019</td>\n",
       "      <td>...</td>\n",
       "      <td>39</td>\n",
       "      <td>NaN</td>\n",
       "      <td>NaN</td>\n",
       "      <td>16.0</td>\n",
       "      <td>Force</td>\n",
       "      <td>Physical force</td>\n",
       "      <td>67.0</td>\n",
       "      <td>Report-dispute</td>\n",
       "      <td>Arrest - other violation/crime</td>\n",
       "      <td>Substantiated (Command Discipline A)</td>\n",
       "    </tr>\n",
       "  </tbody>\n",
       "</table>\n",
       "<p>5 rows × 27 columns</p>\n",
       "</div>"
      ],
      "text/plain": [
       "   unique_mos_id first_name last_name command_now  shield_no  complaint_id  \\\n",
       "0          10004   Jonathan      Ruiz     078 PCT       8409         42835   \n",
       "1          10007       John     Sears     078 PCT       5952         24601   \n",
       "2          10007       John     Sears     078 PCT       5952         24601   \n",
       "3          10007       John     Sears     078 PCT       5952         26146   \n",
       "4          10009      Noemi    Sierra     078 PCT      24058         40253   \n",
       "\n",
       "   month_received  year_received  month_closed  year_closed  ...  \\\n",
       "0               7           2019             5         2020  ...   \n",
       "1              11           2011             8         2012  ...   \n",
       "2              11           2011             8         2012  ...   \n",
       "3               7           2012             9         2013  ...   \n",
       "4               8           2018             2         2019  ...   \n",
       "\n",
       "  mos_age_incident complainant_ethnicity complainant_gender  \\\n",
       "0               32                 Black             Female   \n",
       "1               24                 Black               Male   \n",
       "2               24                 Black               Male   \n",
       "3               25                 Black               Male   \n",
       "4               39                   NaN                NaN   \n",
       "\n",
       "  complainant_age_incident           fado_type                    allegation  \\\n",
       "0                     38.0  Abuse of Authority  Failure to provide RTKA card   \n",
       "1                     26.0         Discourtesy                        Action   \n",
       "2                     26.0  Offensive Language                          Race   \n",
       "3                     45.0  Abuse of Authority                      Question   \n",
       "4                     16.0               Force                Physical force   \n",
       "\n",
       "  precinct                                contact_reason  \\\n",
       "0     78.0                       Report-domestic dispute   \n",
       "1     67.0                              Moving violation   \n",
       "2     67.0                              Moving violation   \n",
       "3     67.0  PD suspected C/V of violation/crime - street   \n",
       "4     67.0                                Report-dispute   \n",
       "\n",
       "                outcome_description                         board_disposition  \n",
       "0  No arrest made or summons issued  Substantiated (Command Lvl Instructions)  \n",
       "1   Moving violation summons issued                   Substantiated (Charges)  \n",
       "2   Moving violation summons issued                   Substantiated (Charges)  \n",
       "3  No arrest made or summons issued                   Substantiated (Charges)  \n",
       "4    Arrest - other violation/crime      Substantiated (Command Discipline A)  \n",
       "\n",
       "[5 rows x 27 columns]"
      ]
     },
     "execution_count": 86,
     "metadata": {},
     "output_type": "execute_result"
    }
   ],
   "source": [
    "replaced.head()"
   ]
  },
  {
   "cell_type": "markdown",
   "metadata": {},
   "source": [
    "#### 2. Adding columns that are suitable for investing our question\n",
    "- \"Result_ues\" for categorizing \"board_disposition\" into three categories \"Unsubstantiated\", \"Exonerated\", and \"Substantiated\"\n",
    "- \"Result_ues\" for categorizing \"board_disposition\" into two categories \"Not substantiated\", \"Substantiated\"\n",
    "- \"mos_ethnicity_w/nw\" for categorizing \"mos_ethnicity\" into two categories \"white\", \"non-white\""
   ]
  },
  {
   "cell_type": "code",
   "execution_count": 87,
   "metadata": {},
   "outputs": [
    {
     "data": {
      "text/html": [
       "<div>\n",
       "<style scoped>\n",
       "    .dataframe tbody tr th:only-of-type {\n",
       "        vertical-align: middle;\n",
       "    }\n",
       "\n",
       "    .dataframe tbody tr th {\n",
       "        vertical-align: top;\n",
       "    }\n",
       "\n",
       "    .dataframe thead th {\n",
       "        text-align: right;\n",
       "    }\n",
       "</style>\n",
       "<table border=\"1\" class=\"dataframe\">\n",
       "  <thead>\n",
       "    <tr style=\"text-align: right;\">\n",
       "      <th></th>\n",
       "      <th>unique_mos_id</th>\n",
       "      <th>first_name</th>\n",
       "      <th>last_name</th>\n",
       "      <th>command_now</th>\n",
       "      <th>shield_no</th>\n",
       "      <th>complaint_id</th>\n",
       "      <th>month_received</th>\n",
       "      <th>year_received</th>\n",
       "      <th>month_closed</th>\n",
       "      <th>year_closed</th>\n",
       "      <th>...</th>\n",
       "      <th>complainant_gender</th>\n",
       "      <th>complainant_age_incident</th>\n",
       "      <th>fado_type</th>\n",
       "      <th>allegation</th>\n",
       "      <th>precinct</th>\n",
       "      <th>contact_reason</th>\n",
       "      <th>outcome_description</th>\n",
       "      <th>board_disposition</th>\n",
       "      <th>Result_ues</th>\n",
       "      <th>Result</th>\n",
       "    </tr>\n",
       "  </thead>\n",
       "  <tbody>\n",
       "    <tr>\n",
       "      <th>0</th>\n",
       "      <td>10004</td>\n",
       "      <td>Jonathan</td>\n",
       "      <td>Ruiz</td>\n",
       "      <td>078 PCT</td>\n",
       "      <td>8409</td>\n",
       "      <td>42835</td>\n",
       "      <td>7</td>\n",
       "      <td>2019</td>\n",
       "      <td>5</td>\n",
       "      <td>2020</td>\n",
       "      <td>...</td>\n",
       "      <td>Female</td>\n",
       "      <td>38.0</td>\n",
       "      <td>Abuse of Authority</td>\n",
       "      <td>Failure to provide RTKA card</td>\n",
       "      <td>78.0</td>\n",
       "      <td>Report-domestic dispute</td>\n",
       "      <td>No arrest made or summons issued</td>\n",
       "      <td>Substantiated (Command Lvl Instructions)</td>\n",
       "      <td>Substantiated</td>\n",
       "      <td>Substantiated</td>\n",
       "    </tr>\n",
       "    <tr>\n",
       "      <th>1</th>\n",
       "      <td>10007</td>\n",
       "      <td>John</td>\n",
       "      <td>Sears</td>\n",
       "      <td>078 PCT</td>\n",
       "      <td>5952</td>\n",
       "      <td>24601</td>\n",
       "      <td>11</td>\n",
       "      <td>2011</td>\n",
       "      <td>8</td>\n",
       "      <td>2012</td>\n",
       "      <td>...</td>\n",
       "      <td>Male</td>\n",
       "      <td>26.0</td>\n",
       "      <td>Discourtesy</td>\n",
       "      <td>Action</td>\n",
       "      <td>67.0</td>\n",
       "      <td>Moving violation</td>\n",
       "      <td>Moving violation summons issued</td>\n",
       "      <td>Substantiated (Charges)</td>\n",
       "      <td>Substantiated</td>\n",
       "      <td>Substantiated</td>\n",
       "    </tr>\n",
       "    <tr>\n",
       "      <th>2</th>\n",
       "      <td>10007</td>\n",
       "      <td>John</td>\n",
       "      <td>Sears</td>\n",
       "      <td>078 PCT</td>\n",
       "      <td>5952</td>\n",
       "      <td>24601</td>\n",
       "      <td>11</td>\n",
       "      <td>2011</td>\n",
       "      <td>8</td>\n",
       "      <td>2012</td>\n",
       "      <td>...</td>\n",
       "      <td>Male</td>\n",
       "      <td>26.0</td>\n",
       "      <td>Offensive Language</td>\n",
       "      <td>Race</td>\n",
       "      <td>67.0</td>\n",
       "      <td>Moving violation</td>\n",
       "      <td>Moving violation summons issued</td>\n",
       "      <td>Substantiated (Charges)</td>\n",
       "      <td>Substantiated</td>\n",
       "      <td>Substantiated</td>\n",
       "    </tr>\n",
       "    <tr>\n",
       "      <th>3</th>\n",
       "      <td>10007</td>\n",
       "      <td>John</td>\n",
       "      <td>Sears</td>\n",
       "      <td>078 PCT</td>\n",
       "      <td>5952</td>\n",
       "      <td>26146</td>\n",
       "      <td>7</td>\n",
       "      <td>2012</td>\n",
       "      <td>9</td>\n",
       "      <td>2013</td>\n",
       "      <td>...</td>\n",
       "      <td>Male</td>\n",
       "      <td>45.0</td>\n",
       "      <td>Abuse of Authority</td>\n",
       "      <td>Question</td>\n",
       "      <td>67.0</td>\n",
       "      <td>PD suspected C/V of violation/crime - street</td>\n",
       "      <td>No arrest made or summons issued</td>\n",
       "      <td>Substantiated (Charges)</td>\n",
       "      <td>Substantiated</td>\n",
       "      <td>Substantiated</td>\n",
       "    </tr>\n",
       "    <tr>\n",
       "      <th>4</th>\n",
       "      <td>10009</td>\n",
       "      <td>Noemi</td>\n",
       "      <td>Sierra</td>\n",
       "      <td>078 PCT</td>\n",
       "      <td>24058</td>\n",
       "      <td>40253</td>\n",
       "      <td>8</td>\n",
       "      <td>2018</td>\n",
       "      <td>2</td>\n",
       "      <td>2019</td>\n",
       "      <td>...</td>\n",
       "      <td>NaN</td>\n",
       "      <td>16.0</td>\n",
       "      <td>Force</td>\n",
       "      <td>Physical force</td>\n",
       "      <td>67.0</td>\n",
       "      <td>Report-dispute</td>\n",
       "      <td>Arrest - other violation/crime</td>\n",
       "      <td>Substantiated (Command Discipline A)</td>\n",
       "      <td>Substantiated</td>\n",
       "      <td>Substantiated</td>\n",
       "    </tr>\n",
       "  </tbody>\n",
       "</table>\n",
       "<p>5 rows × 29 columns</p>\n",
       "</div>"
      ],
      "text/plain": [
       "   unique_mos_id first_name last_name command_now  shield_no  complaint_id  \\\n",
       "0          10004   Jonathan      Ruiz     078 PCT       8409         42835   \n",
       "1          10007       John     Sears     078 PCT       5952         24601   \n",
       "2          10007       John     Sears     078 PCT       5952         24601   \n",
       "3          10007       John     Sears     078 PCT       5952         26146   \n",
       "4          10009      Noemi    Sierra     078 PCT      24058         40253   \n",
       "\n",
       "   month_received  year_received  month_closed  year_closed  ...  \\\n",
       "0               7           2019             5         2020  ...   \n",
       "1              11           2011             8         2012  ...   \n",
       "2              11           2011             8         2012  ...   \n",
       "3               7           2012             9         2013  ...   \n",
       "4               8           2018             2         2019  ...   \n",
       "\n",
       "  complainant_gender complainant_age_incident           fado_type  \\\n",
       "0             Female                     38.0  Abuse of Authority   \n",
       "1               Male                     26.0         Discourtesy   \n",
       "2               Male                     26.0  Offensive Language   \n",
       "3               Male                     45.0  Abuse of Authority   \n",
       "4                NaN                     16.0               Force   \n",
       "\n",
       "                     allegation precinct  \\\n",
       "0  Failure to provide RTKA card     78.0   \n",
       "1                        Action     67.0   \n",
       "2                          Race     67.0   \n",
       "3                      Question     67.0   \n",
       "4                Physical force     67.0   \n",
       "\n",
       "                                 contact_reason  \\\n",
       "0                       Report-domestic dispute   \n",
       "1                              Moving violation   \n",
       "2                              Moving violation   \n",
       "3  PD suspected C/V of violation/crime - street   \n",
       "4                                Report-dispute   \n",
       "\n",
       "                outcome_description                         board_disposition  \\\n",
       "0  No arrest made or summons issued  Substantiated (Command Lvl Instructions)   \n",
       "1   Moving violation summons issued                   Substantiated (Charges)   \n",
       "2   Moving violation summons issued                   Substantiated (Charges)   \n",
       "3  No arrest made or summons issued                   Substantiated (Charges)   \n",
       "4    Arrest - other violation/crime      Substantiated (Command Discipline A)   \n",
       "\n",
       "      Result_ues         Result  \n",
       "0  Substantiated  Substantiated  \n",
       "1  Substantiated  Substantiated  \n",
       "2  Substantiated  Substantiated  \n",
       "3  Substantiated  Substantiated  \n",
       "4  Substantiated  Substantiated  \n",
       "\n",
       "[5 rows x 29 columns]"
      ]
     },
     "execution_count": 87,
     "metadata": {},
     "output_type": "execute_result"
    }
   ],
   "source": [
    "replaced[\"Result_ues\"] = np.where(replaced[\"board_disposition\"] == \"Exonerated\", \"Exonerated\", \n",
    "                            np.where(replaced[\"board_disposition\"] == \"Unsubstantiated\", \"Unsubstantiated\", \n",
    "                         \"Substantiated\"))\n",
    "replaced[\"Result\"] = np.where(replaced[\"board_disposition\"] == \"Exonerated\", \"Not substantiated\", \n",
    "                            np.where(replaced[\"board_disposition\"] == \"Unsubstantiated\", \"Not substantiated\", \n",
    "                         \"Substantiated\"))\n",
    "replaced.head()"
   ]
  },
  {
   "cell_type": "markdown",
   "metadata": {},
   "source": [
    "- assigning rank numbers to \"rank_abbrev_incident\" and \"rank_abbrev_now\" as \"rank_incident_num\"\tand \"rank_now_num\""
   ]
  },
  {
   "cell_type": "code",
   "execution_count": 88,
   "metadata": {},
   "outputs": [],
   "source": [
    "# helper function for assigning rank numbers\n",
    "def rank_to_number(rank):\n",
    "    \"\"\"\n",
    "    A helper function to convert the rank of each officer for comparison\n",
    "    \"\"\"\n",
    "    if rank == 'POM' or rank == 'POF' or rank == 'PO':\n",
    "        return 1\n",
    "    if rank == 'PSA':\n",
    "        return 2\n",
    "    if rank == 'DT3':\n",
    "        return 3\n",
    "    if rank == 'DT2':\n",
    "        return 4\n",
    "    if rank == 'DT1':\n",
    "        return 5\n",
    "    if rank == 'DET':\n",
    "        return 5\n",
    "    if rank == 'DTS':\n",
    "        return 6\n",
    "    if rank == 'SGT':\n",
    "        return 7\n",
    "    if rank == 'SSA':\n",
    "        return 8\n",
    "    if rank == 'SDS':\n",
    "        return 9\n",
    "    if rank == 'LT':\n",
    "        return 10\n",
    "    if rank == 'LSA':\n",
    "        return 11\n",
    "    if rank == 'LCD':\n",
    "        return 12\n",
    "    if rank == 'CPT':\n",
    "        return 13\n",
    "    if rank == 'SRG':\n",
    "        return 14\n",
    "    if rank == 'SCS':\n",
    "        return 15\n",
    "    if rank == 'DCS':\n",
    "        return 16\n",
    "    if rank == 'DI':\n",
    "        return 17\n",
    "    if rank == 'INS':\n",
    "        return 18\n",
    "    if rank == 'DC':\n",
    "        return 19\n",
    "    if rank == 'AC':\n",
    "        return 20\n",
    "    if (rank == 'COD' or rank == 'CCA' or rank == 'CCT' or rank == 'CD' or rank == 'CMS' or rank == 'COH'\n",
    "    or rank == 'COI' or rank == 'COP' or rank == 'COD' or rank == 'COS' or rank == 'COT' or rank == 'CPB'\n",
    "    or rank == 'CCC'):\n",
    "        return 21"
   ]
  },
  {
   "cell_type": "code",
   "execution_count": 89,
   "metadata": {},
   "outputs": [
    {
     "data": {
      "text/html": [
       "<div>\n",
       "<style scoped>\n",
       "    .dataframe tbody tr th:only-of-type {\n",
       "        vertical-align: middle;\n",
       "    }\n",
       "\n",
       "    .dataframe tbody tr th {\n",
       "        vertical-align: top;\n",
       "    }\n",
       "\n",
       "    .dataframe thead th {\n",
       "        text-align: right;\n",
       "    }\n",
       "</style>\n",
       "<table border=\"1\" class=\"dataframe\">\n",
       "  <thead>\n",
       "    <tr style=\"text-align: right;\">\n",
       "      <th></th>\n",
       "      <th>unique_mos_id</th>\n",
       "      <th>first_name</th>\n",
       "      <th>last_name</th>\n",
       "      <th>command_now</th>\n",
       "      <th>shield_no</th>\n",
       "      <th>complaint_id</th>\n",
       "      <th>month_received</th>\n",
       "      <th>year_received</th>\n",
       "      <th>month_closed</th>\n",
       "      <th>year_closed</th>\n",
       "      <th>...</th>\n",
       "      <th>fado_type</th>\n",
       "      <th>allegation</th>\n",
       "      <th>precinct</th>\n",
       "      <th>contact_reason</th>\n",
       "      <th>outcome_description</th>\n",
       "      <th>board_disposition</th>\n",
       "      <th>Result_ues</th>\n",
       "      <th>Result</th>\n",
       "      <th>rank_incident_num</th>\n",
       "      <th>rank_now_num</th>\n",
       "    </tr>\n",
       "  </thead>\n",
       "  <tbody>\n",
       "    <tr>\n",
       "      <th>0</th>\n",
       "      <td>10004</td>\n",
       "      <td>Jonathan</td>\n",
       "      <td>Ruiz</td>\n",
       "      <td>078 PCT</td>\n",
       "      <td>8409</td>\n",
       "      <td>42835</td>\n",
       "      <td>7</td>\n",
       "      <td>2019</td>\n",
       "      <td>5</td>\n",
       "      <td>2020</td>\n",
       "      <td>...</td>\n",
       "      <td>Abuse of Authority</td>\n",
       "      <td>Failure to provide RTKA card</td>\n",
       "      <td>78.0</td>\n",
       "      <td>Report-domestic dispute</td>\n",
       "      <td>No arrest made or summons issued</td>\n",
       "      <td>Substantiated (Command Lvl Instructions)</td>\n",
       "      <td>Substantiated</td>\n",
       "      <td>Substantiated</td>\n",
       "      <td>1</td>\n",
       "      <td>1</td>\n",
       "    </tr>\n",
       "    <tr>\n",
       "      <th>1</th>\n",
       "      <td>10007</td>\n",
       "      <td>John</td>\n",
       "      <td>Sears</td>\n",
       "      <td>078 PCT</td>\n",
       "      <td>5952</td>\n",
       "      <td>24601</td>\n",
       "      <td>11</td>\n",
       "      <td>2011</td>\n",
       "      <td>8</td>\n",
       "      <td>2012</td>\n",
       "      <td>...</td>\n",
       "      <td>Discourtesy</td>\n",
       "      <td>Action</td>\n",
       "      <td>67.0</td>\n",
       "      <td>Moving violation</td>\n",
       "      <td>Moving violation summons issued</td>\n",
       "      <td>Substantiated (Charges)</td>\n",
       "      <td>Substantiated</td>\n",
       "      <td>Substantiated</td>\n",
       "      <td>1</td>\n",
       "      <td>1</td>\n",
       "    </tr>\n",
       "    <tr>\n",
       "      <th>2</th>\n",
       "      <td>10007</td>\n",
       "      <td>John</td>\n",
       "      <td>Sears</td>\n",
       "      <td>078 PCT</td>\n",
       "      <td>5952</td>\n",
       "      <td>24601</td>\n",
       "      <td>11</td>\n",
       "      <td>2011</td>\n",
       "      <td>8</td>\n",
       "      <td>2012</td>\n",
       "      <td>...</td>\n",
       "      <td>Offensive Language</td>\n",
       "      <td>Race</td>\n",
       "      <td>67.0</td>\n",
       "      <td>Moving violation</td>\n",
       "      <td>Moving violation summons issued</td>\n",
       "      <td>Substantiated (Charges)</td>\n",
       "      <td>Substantiated</td>\n",
       "      <td>Substantiated</td>\n",
       "      <td>1</td>\n",
       "      <td>1</td>\n",
       "    </tr>\n",
       "    <tr>\n",
       "      <th>3</th>\n",
       "      <td>10007</td>\n",
       "      <td>John</td>\n",
       "      <td>Sears</td>\n",
       "      <td>078 PCT</td>\n",
       "      <td>5952</td>\n",
       "      <td>26146</td>\n",
       "      <td>7</td>\n",
       "      <td>2012</td>\n",
       "      <td>9</td>\n",
       "      <td>2013</td>\n",
       "      <td>...</td>\n",
       "      <td>Abuse of Authority</td>\n",
       "      <td>Question</td>\n",
       "      <td>67.0</td>\n",
       "      <td>PD suspected C/V of violation/crime - street</td>\n",
       "      <td>No arrest made or summons issued</td>\n",
       "      <td>Substantiated (Charges)</td>\n",
       "      <td>Substantiated</td>\n",
       "      <td>Substantiated</td>\n",
       "      <td>1</td>\n",
       "      <td>1</td>\n",
       "    </tr>\n",
       "    <tr>\n",
       "      <th>4</th>\n",
       "      <td>10009</td>\n",
       "      <td>Noemi</td>\n",
       "      <td>Sierra</td>\n",
       "      <td>078 PCT</td>\n",
       "      <td>24058</td>\n",
       "      <td>40253</td>\n",
       "      <td>8</td>\n",
       "      <td>2018</td>\n",
       "      <td>2</td>\n",
       "      <td>2019</td>\n",
       "      <td>...</td>\n",
       "      <td>Force</td>\n",
       "      <td>Physical force</td>\n",
       "      <td>67.0</td>\n",
       "      <td>Report-dispute</td>\n",
       "      <td>Arrest - other violation/crime</td>\n",
       "      <td>Substantiated (Command Discipline A)</td>\n",
       "      <td>Substantiated</td>\n",
       "      <td>Substantiated</td>\n",
       "      <td>1</td>\n",
       "      <td>1</td>\n",
       "    </tr>\n",
       "  </tbody>\n",
       "</table>\n",
       "<p>5 rows × 31 columns</p>\n",
       "</div>"
      ],
      "text/plain": [
       "   unique_mos_id first_name last_name command_now  shield_no  complaint_id  \\\n",
       "0          10004   Jonathan      Ruiz     078 PCT       8409         42835   \n",
       "1          10007       John     Sears     078 PCT       5952         24601   \n",
       "2          10007       John     Sears     078 PCT       5952         24601   \n",
       "3          10007       John     Sears     078 PCT       5952         26146   \n",
       "4          10009      Noemi    Sierra     078 PCT      24058         40253   \n",
       "\n",
       "   month_received  year_received  month_closed  year_closed  ...  \\\n",
       "0               7           2019             5         2020  ...   \n",
       "1              11           2011             8         2012  ...   \n",
       "2              11           2011             8         2012  ...   \n",
       "3               7           2012             9         2013  ...   \n",
       "4               8           2018             2         2019  ...   \n",
       "\n",
       "            fado_type                    allegation precinct  \\\n",
       "0  Abuse of Authority  Failure to provide RTKA card     78.0   \n",
       "1         Discourtesy                        Action     67.0   \n",
       "2  Offensive Language                          Race     67.0   \n",
       "3  Abuse of Authority                      Question     67.0   \n",
       "4               Force                Physical force     67.0   \n",
       "\n",
       "                                 contact_reason  \\\n",
       "0                       Report-domestic dispute   \n",
       "1                              Moving violation   \n",
       "2                              Moving violation   \n",
       "3  PD suspected C/V of violation/crime - street   \n",
       "4                                Report-dispute   \n",
       "\n",
       "                outcome_description                         board_disposition  \\\n",
       "0  No arrest made or summons issued  Substantiated (Command Lvl Instructions)   \n",
       "1   Moving violation summons issued                   Substantiated (Charges)   \n",
       "2   Moving violation summons issued                   Substantiated (Charges)   \n",
       "3  No arrest made or summons issued                   Substantiated (Charges)   \n",
       "4    Arrest - other violation/crime      Substantiated (Command Discipline A)   \n",
       "\n",
       "      Result_ues         Result rank_incident_num rank_now_num  \n",
       "0  Substantiated  Substantiated                 1            1  \n",
       "1  Substantiated  Substantiated                 1            1  \n",
       "2  Substantiated  Substantiated                 1            1  \n",
       "3  Substantiated  Substantiated                 1            1  \n",
       "4  Substantiated  Substantiated                 1            1  \n",
       "\n",
       "[5 rows x 31 columns]"
      ]
     },
     "execution_count": 89,
     "metadata": {},
     "output_type": "execute_result"
    }
   ],
   "source": [
    "# apply the helper function to the dataset\n",
    "replaced['rank_incident_num'] = replaced['rank_abbrev_incident'].apply(rank_to_number)\n",
    "replaced['rank_now_num'] = replaced['rank_abbrev_now'].apply(rank_to_number)\n",
    "replaced.head()"
   ]
  },
  {
   "cell_type": "markdown",
   "metadata": {},
   "source": [
    "- \"promotion_status\" to represent whether the police officer in this case is promoted after the complains took place.\n",
    "    - \"True\" for promotion (rank number for \"rank_abbrev_now\" is higher than \"rank__abbrev_incident\"); \n",
    "    - \"False\" for unchanged or demotion (rank number for \"rank_abbrev_now\" is lower than or equal to \"rank__abbrev_incident\")"
   ]
  },
  {
   "cell_type": "code",
   "execution_count": 90,
   "metadata": {},
   "outputs": [
    {
     "data": {
      "text/html": [
       "<div>\n",
       "<style scoped>\n",
       "    .dataframe tbody tr th:only-of-type {\n",
       "        vertical-align: middle;\n",
       "    }\n",
       "\n",
       "    .dataframe tbody tr th {\n",
       "        vertical-align: top;\n",
       "    }\n",
       "\n",
       "    .dataframe thead th {\n",
       "        text-align: right;\n",
       "    }\n",
       "</style>\n",
       "<table border=\"1\" class=\"dataframe\">\n",
       "  <thead>\n",
       "    <tr style=\"text-align: right;\">\n",
       "      <th></th>\n",
       "      <th>unique_mos_id</th>\n",
       "      <th>first_name</th>\n",
       "      <th>last_name</th>\n",
       "      <th>command_now</th>\n",
       "      <th>shield_no</th>\n",
       "      <th>complaint_id</th>\n",
       "      <th>month_received</th>\n",
       "      <th>year_received</th>\n",
       "      <th>month_closed</th>\n",
       "      <th>year_closed</th>\n",
       "      <th>...</th>\n",
       "      <th>allegation</th>\n",
       "      <th>precinct</th>\n",
       "      <th>contact_reason</th>\n",
       "      <th>outcome_description</th>\n",
       "      <th>board_disposition</th>\n",
       "      <th>Result_ues</th>\n",
       "      <th>Result</th>\n",
       "      <th>rank_incident_num</th>\n",
       "      <th>rank_now_num</th>\n",
       "      <th>promotion_status</th>\n",
       "    </tr>\n",
       "  </thead>\n",
       "  <tbody>\n",
       "    <tr>\n",
       "      <th>0</th>\n",
       "      <td>10004</td>\n",
       "      <td>Jonathan</td>\n",
       "      <td>Ruiz</td>\n",
       "      <td>078 PCT</td>\n",
       "      <td>8409</td>\n",
       "      <td>42835</td>\n",
       "      <td>7</td>\n",
       "      <td>2019</td>\n",
       "      <td>5</td>\n",
       "      <td>2020</td>\n",
       "      <td>...</td>\n",
       "      <td>Failure to provide RTKA card</td>\n",
       "      <td>78.0</td>\n",
       "      <td>Report-domestic dispute</td>\n",
       "      <td>No arrest made or summons issued</td>\n",
       "      <td>Substantiated (Command Lvl Instructions)</td>\n",
       "      <td>Substantiated</td>\n",
       "      <td>Substantiated</td>\n",
       "      <td>1</td>\n",
       "      <td>1</td>\n",
       "      <td>False</td>\n",
       "    </tr>\n",
       "    <tr>\n",
       "      <th>1</th>\n",
       "      <td>10007</td>\n",
       "      <td>John</td>\n",
       "      <td>Sears</td>\n",
       "      <td>078 PCT</td>\n",
       "      <td>5952</td>\n",
       "      <td>24601</td>\n",
       "      <td>11</td>\n",
       "      <td>2011</td>\n",
       "      <td>8</td>\n",
       "      <td>2012</td>\n",
       "      <td>...</td>\n",
       "      <td>Action</td>\n",
       "      <td>67.0</td>\n",
       "      <td>Moving violation</td>\n",
       "      <td>Moving violation summons issued</td>\n",
       "      <td>Substantiated (Charges)</td>\n",
       "      <td>Substantiated</td>\n",
       "      <td>Substantiated</td>\n",
       "      <td>1</td>\n",
       "      <td>1</td>\n",
       "      <td>False</td>\n",
       "    </tr>\n",
       "    <tr>\n",
       "      <th>2</th>\n",
       "      <td>10007</td>\n",
       "      <td>John</td>\n",
       "      <td>Sears</td>\n",
       "      <td>078 PCT</td>\n",
       "      <td>5952</td>\n",
       "      <td>24601</td>\n",
       "      <td>11</td>\n",
       "      <td>2011</td>\n",
       "      <td>8</td>\n",
       "      <td>2012</td>\n",
       "      <td>...</td>\n",
       "      <td>Race</td>\n",
       "      <td>67.0</td>\n",
       "      <td>Moving violation</td>\n",
       "      <td>Moving violation summons issued</td>\n",
       "      <td>Substantiated (Charges)</td>\n",
       "      <td>Substantiated</td>\n",
       "      <td>Substantiated</td>\n",
       "      <td>1</td>\n",
       "      <td>1</td>\n",
       "      <td>False</td>\n",
       "    </tr>\n",
       "    <tr>\n",
       "      <th>3</th>\n",
       "      <td>10007</td>\n",
       "      <td>John</td>\n",
       "      <td>Sears</td>\n",
       "      <td>078 PCT</td>\n",
       "      <td>5952</td>\n",
       "      <td>26146</td>\n",
       "      <td>7</td>\n",
       "      <td>2012</td>\n",
       "      <td>9</td>\n",
       "      <td>2013</td>\n",
       "      <td>...</td>\n",
       "      <td>Question</td>\n",
       "      <td>67.0</td>\n",
       "      <td>PD suspected C/V of violation/crime - street</td>\n",
       "      <td>No arrest made or summons issued</td>\n",
       "      <td>Substantiated (Charges)</td>\n",
       "      <td>Substantiated</td>\n",
       "      <td>Substantiated</td>\n",
       "      <td>1</td>\n",
       "      <td>1</td>\n",
       "      <td>False</td>\n",
       "    </tr>\n",
       "    <tr>\n",
       "      <th>4</th>\n",
       "      <td>10009</td>\n",
       "      <td>Noemi</td>\n",
       "      <td>Sierra</td>\n",
       "      <td>078 PCT</td>\n",
       "      <td>24058</td>\n",
       "      <td>40253</td>\n",
       "      <td>8</td>\n",
       "      <td>2018</td>\n",
       "      <td>2</td>\n",
       "      <td>2019</td>\n",
       "      <td>...</td>\n",
       "      <td>Physical force</td>\n",
       "      <td>67.0</td>\n",
       "      <td>Report-dispute</td>\n",
       "      <td>Arrest - other violation/crime</td>\n",
       "      <td>Substantiated (Command Discipline A)</td>\n",
       "      <td>Substantiated</td>\n",
       "      <td>Substantiated</td>\n",
       "      <td>1</td>\n",
       "      <td>1</td>\n",
       "      <td>False</td>\n",
       "    </tr>\n",
       "  </tbody>\n",
       "</table>\n",
       "<p>5 rows × 32 columns</p>\n",
       "</div>"
      ],
      "text/plain": [
       "   unique_mos_id first_name last_name command_now  shield_no  complaint_id  \\\n",
       "0          10004   Jonathan      Ruiz     078 PCT       8409         42835   \n",
       "1          10007       John     Sears     078 PCT       5952         24601   \n",
       "2          10007       John     Sears     078 PCT       5952         24601   \n",
       "3          10007       John     Sears     078 PCT       5952         26146   \n",
       "4          10009      Noemi    Sierra     078 PCT      24058         40253   \n",
       "\n",
       "   month_received  year_received  month_closed  year_closed  ...  \\\n",
       "0               7           2019             5         2020  ...   \n",
       "1              11           2011             8         2012  ...   \n",
       "2              11           2011             8         2012  ...   \n",
       "3               7           2012             9         2013  ...   \n",
       "4               8           2018             2         2019  ...   \n",
       "\n",
       "                     allegation precinct  \\\n",
       "0  Failure to provide RTKA card     78.0   \n",
       "1                        Action     67.0   \n",
       "2                          Race     67.0   \n",
       "3                      Question     67.0   \n",
       "4                Physical force     67.0   \n",
       "\n",
       "                                 contact_reason  \\\n",
       "0                       Report-domestic dispute   \n",
       "1                              Moving violation   \n",
       "2                              Moving violation   \n",
       "3  PD suspected C/V of violation/crime - street   \n",
       "4                                Report-dispute   \n",
       "\n",
       "                outcome_description                         board_disposition  \\\n",
       "0  No arrest made or summons issued  Substantiated (Command Lvl Instructions)   \n",
       "1   Moving violation summons issued                   Substantiated (Charges)   \n",
       "2   Moving violation summons issued                   Substantiated (Charges)   \n",
       "3  No arrest made or summons issued                   Substantiated (Charges)   \n",
       "4    Arrest - other violation/crime      Substantiated (Command Discipline A)   \n",
       "\n",
       "      Result_ues         Result  rank_incident_num rank_now_num  \\\n",
       "0  Substantiated  Substantiated                  1            1   \n",
       "1  Substantiated  Substantiated                  1            1   \n",
       "2  Substantiated  Substantiated                  1            1   \n",
       "3  Substantiated  Substantiated                  1            1   \n",
       "4  Substantiated  Substantiated                  1            1   \n",
       "\n",
       "  promotion_status  \n",
       "0            False  \n",
       "1            False  \n",
       "2            False  \n",
       "3            False  \n",
       "4            False  \n",
       "\n",
       "[5 rows x 32 columns]"
      ]
     },
     "execution_count": 90,
     "metadata": {},
     "output_type": "execute_result"
    }
   ],
   "source": [
    "# first get the difference between current rank and incident rank\n",
    "# the officer is promoted if the difference is larger than 0\n",
    "replaced[\"promotion_status\"] = replaced[\"rank_now_num\"] - replaced[\"rank_incident_num\"]\n",
    "replaced[\"promotion_status\"] = replaced[\"promotion_status\"] > 0\n",
    "replaced.head()"
   ]
  },
  {
   "cell_type": "markdown",
   "metadata": {},
   "source": [
    "#### 3. Univariate Analysis"
   ]
  },
  {
   "cell_type": "markdown",
   "metadata": {},
   "source": [
    "- the distribution of the officers' ethinicity as it was originally categorized, i.e. \"Hispanic\", \"White\", \"Black\", \"Asian\", \"American Indian\".\n"
   ]
  },
  {
   "cell_type": "code",
   "execution_count": 91,
   "metadata": {},
   "outputs": [
    {
     "data": {
      "text/html": [
       "<div>\n",
       "<style scoped>\n",
       "    .dataframe tbody tr th:only-of-type {\n",
       "        vertical-align: middle;\n",
       "    }\n",
       "\n",
       "    .dataframe tbody tr th {\n",
       "        vertical-align: top;\n",
       "    }\n",
       "\n",
       "    .dataframe thead th {\n",
       "        text-align: right;\n",
       "    }\n",
       "</style>\n",
       "<table border=\"1\" class=\"dataframe\">\n",
       "  <thead>\n",
       "    <tr style=\"text-align: right;\">\n",
       "      <th></th>\n",
       "      <th>mos_ethnicity</th>\n",
       "    </tr>\n",
       "  </thead>\n",
       "  <tbody>\n",
       "    <tr>\n",
       "      <th>White</th>\n",
       "      <td>18074</td>\n",
       "    </tr>\n",
       "    <tr>\n",
       "      <th>Hispanic</th>\n",
       "      <td>9150</td>\n",
       "    </tr>\n",
       "    <tr>\n",
       "      <th>Black</th>\n",
       "      <td>4924</td>\n",
       "    </tr>\n",
       "    <tr>\n",
       "      <th>Asian</th>\n",
       "      <td>1178</td>\n",
       "    </tr>\n",
       "    <tr>\n",
       "      <th>American Indian</th>\n",
       "      <td>32</td>\n",
       "    </tr>\n",
       "  </tbody>\n",
       "</table>\n",
       "</div>"
      ],
      "text/plain": [
       "                 mos_ethnicity\n",
       "White                    18074\n",
       "Hispanic                  9150\n",
       "Black                     4924\n",
       "Asian                     1178\n",
       "American Indian             32"
      ]
     },
     "execution_count": 91,
     "metadata": {},
     "output_type": "execute_result"
    }
   ],
   "source": [
    "# the number of cases for each category of police officers' ethnicity\n",
    "replaced[\"mos_ethnicity\"].value_counts().to_frame()"
   ]
  },
  {
   "cell_type": "code",
   "execution_count": 92,
   "metadata": {},
   "outputs": [
    {
     "data": {
      "text/plain": [
       "[Text(0.5, 1.0, 'Distribution of the ethnicity of the police officer')]"
      ]
     },
     "execution_count": 92,
     "metadata": {},
     "output_type": "execute_result"
    },
    {
     "data": {
      "image/png": "[encoded data removed]",
      "text/plain": [
       "<Figure size 432x288 with 1 Axes>"
      ]
     },
     "metadata": {
      "image/png": {
       "height": 277,
       "width": 385
      },
      "needs_background": "light"
     },
     "output_type": "display_data"
    }
   ],
   "source": [
    "plot_1 = sns.histplot(data=replaced, x=\"mos_ethnicity\", stat=\"density\")\n",
    "plot_1.set(title = \"Distribution of the ethnicity of the police officer\")"
   ]
  },
  {
   "cell_type": "markdown",
   "metadata": {},
   "source": [
    "- the distribution of reviewed result as \"Substantiated\", \"Unsubstantiated\", and \"Exonerated\"\n"
   ]
  },
  {
   "cell_type": "code",
   "execution_count": 93,
   "metadata": {},
   "outputs": [
    {
     "data": {
      "text/html": [
       "<div>\n",
       "<style scoped>\n",
       "    .dataframe tbody tr th:only-of-type {\n",
       "        vertical-align: middle;\n",
       "    }\n",
       "\n",
       "    .dataframe tbody tr th {\n",
       "        vertical-align: top;\n",
       "    }\n",
       "\n",
       "    .dataframe thead th {\n",
       "        text-align: right;\n",
       "    }\n",
       "</style>\n",
       "<table border=\"1\" class=\"dataframe\">\n",
       "  <thead>\n",
       "    <tr style=\"text-align: right;\">\n",
       "      <th></th>\n",
       "      <th>Result_ues</th>\n",
       "    </tr>\n",
       "  </thead>\n",
       "  <tbody>\n",
       "    <tr>\n",
       "      <th>Unsubstantiated</th>\n",
       "      <td>15448</td>\n",
       "    </tr>\n",
       "    <tr>\n",
       "      <th>Exonerated</th>\n",
       "      <td>9609</td>\n",
       "    </tr>\n",
       "    <tr>\n",
       "      <th>Substantiated</th>\n",
       "      <td>8301</td>\n",
       "    </tr>\n",
       "  </tbody>\n",
       "</table>\n",
       "</div>"
      ],
      "text/plain": [
       "                 Result_ues\n",
       "Unsubstantiated       15448\n",
       "Exonerated             9609\n",
       "Substantiated          8301"
      ]
     },
     "execution_count": 93,
     "metadata": {},
     "output_type": "execute_result"
    }
   ],
   "source": [
    "# the number of cases for each category of reviewed result with 3 categories\n",
    "replaced[\"Result_ues\"].value_counts().to_frame()"
   ]
  },
  {
   "cell_type": "code",
   "execution_count": 94,
   "metadata": {},
   "outputs": [
    {
     "data": {
      "text/plain": [
       "[Text(0.5, 1.0, 'Distribution of the reviewed result (3 categories)')]"
      ]
     },
     "execution_count": 94,
     "metadata": {},
     "output_type": "execute_result"
    },
    {
     "data": {
      "image/png": "[encoded data removed]",
      "text/plain": [
       "<Figure size 432x288 with 1 Axes>"
      ]
     },
     "metadata": {
      "image/png": {
       "height": 277,
       "width": 385
      },
      "needs_background": "light"
     },
     "output_type": "display_data"
    }
   ],
   "source": [
    "plot_3 = sns.histplot(data=replaced, x=\"Result_ues\", stat=\"density\")\n",
    "plot_3.set(title = \"Distribution of the reviewed result (3 categories)\")"
   ]
  },
  {
   "cell_type": "markdown",
   "metadata": {},
   "source": [
    "- the distribution of review result as \"Substantiated\" and \"Not substantiated\" (\"Unsubstantiated\" and \"Exonerated\" combined)"
   ]
  },
  {
   "cell_type": "code",
   "execution_count": 95,
   "metadata": {},
   "outputs": [
    {
     "data": {
      "text/html": [
       "<div>\n",
       "<style scoped>\n",
       "    .dataframe tbody tr th:only-of-type {\n",
       "        vertical-align: middle;\n",
       "    }\n",
       "\n",
       "    .dataframe tbody tr th {\n",
       "        vertical-align: top;\n",
       "    }\n",
       "\n",
       "    .dataframe thead th {\n",
       "        text-align: right;\n",
       "    }\n",
       "</style>\n",
       "<table border=\"1\" class=\"dataframe\">\n",
       "  <thead>\n",
       "    <tr style=\"text-align: right;\">\n",
       "      <th></th>\n",
       "      <th>Result</th>\n",
       "    </tr>\n",
       "  </thead>\n",
       "  <tbody>\n",
       "    <tr>\n",
       "      <th>Not substantiated</th>\n",
       "      <td>25057</td>\n",
       "    </tr>\n",
       "    <tr>\n",
       "      <th>Substantiated</th>\n",
       "      <td>8301</td>\n",
       "    </tr>\n",
       "  </tbody>\n",
       "</table>\n",
       "</div>"
      ],
      "text/plain": [
       "                   Result\n",
       "Not substantiated   25057\n",
       "Substantiated        8301"
      ]
     },
     "execution_count": 95,
     "metadata": {},
     "output_type": "execute_result"
    }
   ],
   "source": [
    "# the number of cases for each category of reviewed result with 2 categories\n",
    "replaced[\"Result\"].value_counts().to_frame()"
   ]
  },
  {
   "cell_type": "code",
   "execution_count": 96,
   "metadata": {},
   "outputs": [
    {
     "data": {
      "text/plain": [
       "[Text(0.5, 1.0, 'Distribution of the reviewed result (2 categories)')]"
      ]
     },
     "execution_count": 96,
     "metadata": {},
     "output_type": "execute_result"
    },
    {
     "data": {
      "image/png": "[encoded data removed]",
      "text/plain": [
       "<Figure size 432x288 with 1 Axes>"
      ]
     },
     "metadata": {
      "image/png": {
       "height": 277,
       "width": 385
      },
      "needs_background": "light"
     },
     "output_type": "display_data"
    }
   ],
   "source": [
    "plot_4 = sns.histplot(data=replaced, x=\"Result\", stat=\"density\")\n",
    "plot_4.set(title = \"Distribution of the reviewed result (2 categories)\")"
   ]
  },
  {
   "cell_type": "markdown",
   "metadata": {},
   "source": [
    "- the distribution of the promotion status"
   ]
  },
  {
   "cell_type": "code",
   "execution_count": 97,
   "metadata": {},
   "outputs": [
    {
     "data": {
      "text/html": [
       "<div>\n",
       "<style scoped>\n",
       "    .dataframe tbody tr th:only-of-type {\n",
       "        vertical-align: middle;\n",
       "    }\n",
       "\n",
       "    .dataframe tbody tr th {\n",
       "        vertical-align: top;\n",
       "    }\n",
       "\n",
       "    .dataframe thead th {\n",
       "        text-align: right;\n",
       "    }\n",
       "</style>\n",
       "<table border=\"1\" class=\"dataframe\">\n",
       "  <thead>\n",
       "    <tr style=\"text-align: right;\">\n",
       "      <th></th>\n",
       "      <th>promotion_status</th>\n",
       "    </tr>\n",
       "  </thead>\n",
       "  <tbody>\n",
       "    <tr>\n",
       "      <th>True</th>\n",
       "      <td>17218</td>\n",
       "    </tr>\n",
       "    <tr>\n",
       "      <th>False</th>\n",
       "      <td>16140</td>\n",
       "    </tr>\n",
       "  </tbody>\n",
       "</table>\n",
       "</div>"
      ],
      "text/plain": [
       "       promotion_status\n",
       "True              17218\n",
       "False             16140"
      ]
     },
     "execution_count": 97,
     "metadata": {},
     "output_type": "execute_result"
    }
   ],
   "source": [
    "# the number of cases for each category of the promotion status\n",
    "replaced[\"promotion_status\"].value_counts().to_frame()"
   ]
  },
  {
   "cell_type": "code",
   "execution_count": 98,
   "metadata": {},
   "outputs": [
    {
     "data": {
      "text/plain": [
       "[Text(0.5, 1.0, 'Distribution of the promotion status')]"
      ]
     },
     "execution_count": 98,
     "metadata": {},
     "output_type": "execute_result"
    },
    {
     "data": {
      "image/png": "[encoded data removed]",
      "text/plain": [
       "<Figure size 432x288 with 1 Axes>"
      ]
     },
     "metadata": {
      "image/png": {
       "height": 277,
       "width": 385
      },
      "needs_background": "light"
     },
     "output_type": "display_data"
    }
   ],
   "source": [
    "# assign a variable \"promotion\" since the column \"promotion_status\" is an boolean array which is hard to draw histogram\n",
    "replaced[\"promotion\"] = np.where(replaced[\"promotion_status\"] == True, \"promoted\", \"unpromoted\")\n",
    "plot_5 = sns.histplot(replaced[\"promotion\"], stat=\"density\")\n",
    "plot_5.set(title = \"Distribution of the promotion status\")"
   ]
  },
  {
   "cell_type": "markdown",
   "metadata": {},
   "source": [
    "#### 4. Bivariate Analysis"
   ]
  },
  {
   "cell_type": "markdown",
   "metadata": {},
   "source": [
    "- the pivot table of officers' ethinicity vs rank_abbrev_incident (rank abbreviation when the complains took place)\n",
    "\n"
   ]
  },
  {
   "cell_type": "code",
   "execution_count": 99,
   "metadata": {},
   "outputs": [
    {
     "data": {
      "text/html": [
       "<div>\n",
       "<style scoped>\n",
       "    .dataframe tbody tr th:only-of-type {\n",
       "        vertical-align: middle;\n",
       "    }\n",
       "\n",
       "    .dataframe tbody tr th {\n",
       "        vertical-align: top;\n",
       "    }\n",
       "\n",
       "    .dataframe thead th {\n",
       "        text-align: right;\n",
       "    }\n",
       "</style>\n",
       "<table border=\"1\" class=\"dataframe\">\n",
       "  <thead>\n",
       "    <tr style=\"text-align: right;\">\n",
       "      <th>rank_abbrev_incident</th>\n",
       "      <th>CPT</th>\n",
       "      <th>DC</th>\n",
       "      <th>DET</th>\n",
       "      <th>DI</th>\n",
       "      <th>DT1</th>\n",
       "      <th>DT2</th>\n",
       "      <th>DT3</th>\n",
       "      <th>DTS</th>\n",
       "      <th>INS</th>\n",
       "      <th>LCD</th>\n",
       "      <th>LSA</th>\n",
       "      <th>LT</th>\n",
       "      <th>PO</th>\n",
       "      <th>POF</th>\n",
       "      <th>POM</th>\n",
       "      <th>SDS</th>\n",
       "      <th>SGT</th>\n",
       "      <th>SSA</th>\n",
       "    </tr>\n",
       "    <tr>\n",
       "      <th>mos_ethnicity</th>\n",
       "      <th></th>\n",
       "      <th></th>\n",
       "      <th></th>\n",
       "      <th></th>\n",
       "      <th></th>\n",
       "      <th></th>\n",
       "      <th></th>\n",
       "      <th></th>\n",
       "      <th></th>\n",
       "      <th></th>\n",
       "      <th></th>\n",
       "      <th></th>\n",
       "      <th></th>\n",
       "      <th></th>\n",
       "      <th></th>\n",
       "      <th></th>\n",
       "      <th></th>\n",
       "      <th></th>\n",
       "    </tr>\n",
       "  </thead>\n",
       "  <tbody>\n",
       "    <tr>\n",
       "      <th>American Indian</th>\n",
       "      <td>NaN</td>\n",
       "      <td>NaN</td>\n",
       "      <td>NaN</td>\n",
       "      <td>NaN</td>\n",
       "      <td>NaN</td>\n",
       "      <td>7.0</td>\n",
       "      <td>7.0</td>\n",
       "      <td>NaN</td>\n",
       "      <td>NaN</td>\n",
       "      <td>NaN</td>\n",
       "      <td>NaN</td>\n",
       "      <td>NaN</td>\n",
       "      <td>NaN</td>\n",
       "      <td>NaN</td>\n",
       "      <td>18.0</td>\n",
       "      <td>NaN</td>\n",
       "      <td>NaN</td>\n",
       "      <td>NaN</td>\n",
       "    </tr>\n",
       "    <tr>\n",
       "      <th>Asian</th>\n",
       "      <td>NaN</td>\n",
       "      <td>NaN</td>\n",
       "      <td>NaN</td>\n",
       "      <td>5.0</td>\n",
       "      <td>2.0</td>\n",
       "      <td>13.0</td>\n",
       "      <td>58.0</td>\n",
       "      <td>1.0</td>\n",
       "      <td>NaN</td>\n",
       "      <td>NaN</td>\n",
       "      <td>NaN</td>\n",
       "      <td>28.0</td>\n",
       "      <td>10.0</td>\n",
       "      <td>33.0</td>\n",
       "      <td>763.0</td>\n",
       "      <td>26.0</td>\n",
       "      <td>239.0</td>\n",
       "      <td>NaN</td>\n",
       "    </tr>\n",
       "    <tr>\n",
       "      <th>Black</th>\n",
       "      <td>6.0</td>\n",
       "      <td>1.0</td>\n",
       "      <td>18.0</td>\n",
       "      <td>8.0</td>\n",
       "      <td>3.0</td>\n",
       "      <td>16.0</td>\n",
       "      <td>460.0</td>\n",
       "      <td>79.0</td>\n",
       "      <td>2.0</td>\n",
       "      <td>NaN</td>\n",
       "      <td>NaN</td>\n",
       "      <td>58.0</td>\n",
       "      <td>165.0</td>\n",
       "      <td>313.0</td>\n",
       "      <td>2988.0</td>\n",
       "      <td>7.0</td>\n",
       "      <td>784.0</td>\n",
       "      <td>16.0</td>\n",
       "    </tr>\n",
       "    <tr>\n",
       "      <th>Hispanic</th>\n",
       "      <td>49.0</td>\n",
       "      <td>NaN</td>\n",
       "      <td>6.0</td>\n",
       "      <td>9.0</td>\n",
       "      <td>6.0</td>\n",
       "      <td>50.0</td>\n",
       "      <td>711.0</td>\n",
       "      <td>72.0</td>\n",
       "      <td>NaN</td>\n",
       "      <td>NaN</td>\n",
       "      <td>1.0</td>\n",
       "      <td>208.0</td>\n",
       "      <td>185.0</td>\n",
       "      <td>705.0</td>\n",
       "      <td>5845.0</td>\n",
       "      <td>10.0</td>\n",
       "      <td>1285.0</td>\n",
       "      <td>8.0</td>\n",
       "    </tr>\n",
       "    <tr>\n",
       "      <th>White</th>\n",
       "      <td>127.0</td>\n",
       "      <td>1.0</td>\n",
       "      <td>26.0</td>\n",
       "      <td>74.0</td>\n",
       "      <td>9.0</td>\n",
       "      <td>109.0</td>\n",
       "      <td>1476.0</td>\n",
       "      <td>178.0</td>\n",
       "      <td>25.0</td>\n",
       "      <td>13.0</td>\n",
       "      <td>23.0</td>\n",
       "      <td>970.0</td>\n",
       "      <td>944.0</td>\n",
       "      <td>347.0</td>\n",
       "      <td>10193.0</td>\n",
       "      <td>85.0</td>\n",
       "      <td>3393.0</td>\n",
       "      <td>81.0</td>\n",
       "    </tr>\n",
       "  </tbody>\n",
       "</table>\n",
       "</div>"
      ],
      "text/plain": [
       "rank_abbrev_incident    CPT   DC   DET    DI  DT1    DT2     DT3    DTS   INS  \\\n",
       "mos_ethnicity                                                                   \n",
       "American Indian         NaN  NaN   NaN   NaN  NaN    7.0     7.0    NaN   NaN   \n",
       "Asian                   NaN  NaN   NaN   5.0  2.0   13.0    58.0    1.0   NaN   \n",
       "Black                   6.0  1.0  18.0   8.0  3.0   16.0   460.0   79.0   2.0   \n",
       "Hispanic               49.0  NaN   6.0   9.0  6.0   50.0   711.0   72.0   NaN   \n",
       "White                 127.0  1.0  26.0  74.0  9.0  109.0  1476.0  178.0  25.0   \n",
       "\n",
       "rank_abbrev_incident   LCD   LSA     LT     PO    POF      POM   SDS     SGT  \\\n",
       "mos_ethnicity                                                                  \n",
       "American Indian        NaN   NaN    NaN    NaN    NaN     18.0   NaN     NaN   \n",
       "Asian                  NaN   NaN   28.0   10.0   33.0    763.0  26.0   239.0   \n",
       "Black                  NaN   NaN   58.0  165.0  313.0   2988.0   7.0   784.0   \n",
       "Hispanic               NaN   1.0  208.0  185.0  705.0   5845.0  10.0  1285.0   \n",
       "White                 13.0  23.0  970.0  944.0  347.0  10193.0  85.0  3393.0   \n",
       "\n",
       "rank_abbrev_incident   SSA  \n",
       "mos_ethnicity               \n",
       "American Indian        NaN  \n",
       "Asian                  NaN  \n",
       "Black                 16.0  \n",
       "Hispanic               8.0  \n",
       "White                 81.0  "
      ]
     },
     "execution_count": 99,
     "metadata": {},
     "output_type": "execute_result"
    }
   ],
   "source": [
    "# number of cases in diffrent rank (when incident took place) with respect to ethnicity\n",
    "incident_rank = replaced.groupby(['mos_ethnicity', 'rank_abbrev_incident'], as_index = False).count()\n",
    "incident_rank = incident_rank[['mos_ethnicity','rank_abbrev_incident','unique_mos_id']]\n",
    "inci_pt = incident_rank.pivot_table(index = 'mos_ethnicity', columns = 'rank_abbrev_incident', values=\"unique_mos_id\")\n",
    "inci_pt\n"
   ]
  },
  {
   "cell_type": "markdown",
   "metadata": {},
   "source": [
    "- the pivot table of officers' ethinicity vs rank_abbrev_now (current rank abbreviation)\n"
   ]
  },
  {
   "cell_type": "code",
   "execution_count": 100,
   "metadata": {},
   "outputs": [
    {
     "data": {
      "text/html": [
       "<div>\n",
       "<style scoped>\n",
       "    .dataframe tbody tr th:only-of-type {\n",
       "        vertical-align: middle;\n",
       "    }\n",
       "\n",
       "    .dataframe tbody tr th {\n",
       "        vertical-align: top;\n",
       "    }\n",
       "\n",
       "    .dataframe thead th {\n",
       "        text-align: right;\n",
       "    }\n",
       "</style>\n",
       "<table border=\"1\" class=\"dataframe\">\n",
       "  <thead>\n",
       "    <tr style=\"text-align: right;\">\n",
       "      <th>rank_abbrev_now</th>\n",
       "      <th>AC</th>\n",
       "      <th>CCC</th>\n",
       "      <th>CD</th>\n",
       "      <th>COI</th>\n",
       "      <th>CPT</th>\n",
       "      <th>DC</th>\n",
       "      <th>DI</th>\n",
       "      <th>DT1</th>\n",
       "      <th>DT2</th>\n",
       "      <th>DT3</th>\n",
       "      <th>DTS</th>\n",
       "      <th>INS</th>\n",
       "      <th>LCD</th>\n",
       "      <th>LSA</th>\n",
       "      <th>LT</th>\n",
       "      <th>POF</th>\n",
       "      <th>POM</th>\n",
       "      <th>SDS</th>\n",
       "      <th>SGT</th>\n",
       "      <th>SSA</th>\n",
       "    </tr>\n",
       "    <tr>\n",
       "      <th>mos_ethnicity</th>\n",
       "      <th></th>\n",
       "      <th></th>\n",
       "      <th></th>\n",
       "      <th></th>\n",
       "      <th></th>\n",
       "      <th></th>\n",
       "      <th></th>\n",
       "      <th></th>\n",
       "      <th></th>\n",
       "      <th></th>\n",
       "      <th></th>\n",
       "      <th></th>\n",
       "      <th></th>\n",
       "      <th></th>\n",
       "      <th></th>\n",
       "      <th></th>\n",
       "      <th></th>\n",
       "      <th></th>\n",
       "      <th></th>\n",
       "      <th></th>\n",
       "    </tr>\n",
       "  </thead>\n",
       "  <tbody>\n",
       "    <tr>\n",
       "      <th>American Indian</th>\n",
       "      <td>NaN</td>\n",
       "      <td>NaN</td>\n",
       "      <td>NaN</td>\n",
       "      <td>NaN</td>\n",
       "      <td>NaN</td>\n",
       "      <td>NaN</td>\n",
       "      <td>NaN</td>\n",
       "      <td>NaN</td>\n",
       "      <td>30.0</td>\n",
       "      <td>NaN</td>\n",
       "      <td>NaN</td>\n",
       "      <td>NaN</td>\n",
       "      <td>NaN</td>\n",
       "      <td>NaN</td>\n",
       "      <td>NaN</td>\n",
       "      <td>NaN</td>\n",
       "      <td>2.0</td>\n",
       "      <td>NaN</td>\n",
       "      <td>NaN</td>\n",
       "      <td>NaN</td>\n",
       "    </tr>\n",
       "    <tr>\n",
       "      <th>Asian</th>\n",
       "      <td>NaN</td>\n",
       "      <td>NaN</td>\n",
       "      <td>NaN</td>\n",
       "      <td>NaN</td>\n",
       "      <td>42.0</td>\n",
       "      <td>NaN</td>\n",
       "      <td>1.0</td>\n",
       "      <td>33.0</td>\n",
       "      <td>9.0</td>\n",
       "      <td>182.0</td>\n",
       "      <td>20.0</td>\n",
       "      <td>19.0</td>\n",
       "      <td>NaN</td>\n",
       "      <td>NaN</td>\n",
       "      <td>78.0</td>\n",
       "      <td>15.0</td>\n",
       "      <td>420.0</td>\n",
       "      <td>70.0</td>\n",
       "      <td>289.0</td>\n",
       "      <td>NaN</td>\n",
       "    </tr>\n",
       "    <tr>\n",
       "      <th>Black</th>\n",
       "      <td>21.0</td>\n",
       "      <td>NaN</td>\n",
       "      <td>19.0</td>\n",
       "      <td>NaN</td>\n",
       "      <td>38.0</td>\n",
       "      <td>19.0</td>\n",
       "      <td>43.0</td>\n",
       "      <td>81.0</td>\n",
       "      <td>122.0</td>\n",
       "      <td>1205.0</td>\n",
       "      <td>276.0</td>\n",
       "      <td>5.0</td>\n",
       "      <td>31.0</td>\n",
       "      <td>13.0</td>\n",
       "      <td>394.0</td>\n",
       "      <td>210.0</td>\n",
       "      <td>1419.0</td>\n",
       "      <td>178.0</td>\n",
       "      <td>808.0</td>\n",
       "      <td>42.0</td>\n",
       "    </tr>\n",
       "    <tr>\n",
       "      <th>Hispanic</th>\n",
       "      <td>NaN</td>\n",
       "      <td>NaN</td>\n",
       "      <td>NaN</td>\n",
       "      <td>NaN</td>\n",
       "      <td>182.0</td>\n",
       "      <td>16.0</td>\n",
       "      <td>87.0</td>\n",
       "      <td>106.0</td>\n",
       "      <td>228.0</td>\n",
       "      <td>2175.0</td>\n",
       "      <td>361.0</td>\n",
       "      <td>22.0</td>\n",
       "      <td>98.0</td>\n",
       "      <td>33.0</td>\n",
       "      <td>672.0</td>\n",
       "      <td>426.0</td>\n",
       "      <td>2949.0</td>\n",
       "      <td>150.0</td>\n",
       "      <td>1554.0</td>\n",
       "      <td>91.0</td>\n",
       "    </tr>\n",
       "    <tr>\n",
       "      <th>White</th>\n",
       "      <td>76.0</td>\n",
       "      <td>19.0</td>\n",
       "      <td>NaN</td>\n",
       "      <td>14.0</td>\n",
       "      <td>473.0</td>\n",
       "      <td>128.0</td>\n",
       "      <td>304.0</td>\n",
       "      <td>475.0</td>\n",
       "      <td>699.0</td>\n",
       "      <td>3276.0</td>\n",
       "      <td>639.0</td>\n",
       "      <td>168.0</td>\n",
       "      <td>543.0</td>\n",
       "      <td>163.0</td>\n",
       "      <td>1671.0</td>\n",
       "      <td>193.0</td>\n",
       "      <td>4664.0</td>\n",
       "      <td>830.0</td>\n",
       "      <td>3416.0</td>\n",
       "      <td>323.0</td>\n",
       "    </tr>\n",
       "  </tbody>\n",
       "</table>\n",
       "</div>"
      ],
      "text/plain": [
       "rank_abbrev_now    AC   CCC    CD   COI    CPT     DC     DI    DT1    DT2  \\\n",
       "mos_ethnicity                                                                \n",
       "American Indian   NaN   NaN   NaN   NaN    NaN    NaN    NaN    NaN   30.0   \n",
       "Asian             NaN   NaN   NaN   NaN   42.0    NaN    1.0   33.0    9.0   \n",
       "Black            21.0   NaN  19.0   NaN   38.0   19.0   43.0   81.0  122.0   \n",
       "Hispanic          NaN   NaN   NaN   NaN  182.0   16.0   87.0  106.0  228.0   \n",
       "White            76.0  19.0   NaN  14.0  473.0  128.0  304.0  475.0  699.0   \n",
       "\n",
       "rank_abbrev_now     DT3    DTS    INS    LCD    LSA      LT    POF     POM  \\\n",
       "mos_ethnicity                                                                \n",
       "American Indian     NaN    NaN    NaN    NaN    NaN     NaN    NaN     2.0   \n",
       "Asian             182.0   20.0   19.0    NaN    NaN    78.0   15.0   420.0   \n",
       "Black            1205.0  276.0    5.0   31.0   13.0   394.0  210.0  1419.0   \n",
       "Hispanic         2175.0  361.0   22.0   98.0   33.0   672.0  426.0  2949.0   \n",
       "White            3276.0  639.0  168.0  543.0  163.0  1671.0  193.0  4664.0   \n",
       "\n",
       "rank_abbrev_now    SDS     SGT    SSA  \n",
       "mos_ethnicity                          \n",
       "American Indian    NaN     NaN    NaN  \n",
       "Asian             70.0   289.0    NaN  \n",
       "Black            178.0   808.0   42.0  \n",
       "Hispanic         150.0  1554.0   91.0  \n",
       "White            830.0  3416.0  323.0  "
      ]
     },
     "execution_count": 100,
     "metadata": {},
     "output_type": "execute_result"
    }
   ],
   "source": [
    "# number of cases in diffrent rank (current rank) with respect to ethnicity\n",
    "now_rank = replaced.groupby(['mos_ethnicity', 'rank_abbrev_now'], as_index = False).count()\n",
    "now_rank = now_rank[['mos_ethnicity','rank_abbrev_now','unique_mos_id']]\n",
    "now_pt = now_rank.pivot_table( index = 'mos_ethnicity', columns = 'rank_abbrev_now', values=\"unique_mos_id\")\n",
    "now_pt"
   ]
  },
  {
   "cell_type": "markdown",
   "metadata": {},
   "source": [
    "- the distribution of the review result with respect to the ethinicity of officers\n"
   ]
  },
  {
   "cell_type": "code",
   "execution_count": 119,
   "metadata": {},
   "outputs": [
    {
     "data": {
      "text/plain": [
       "[Text(0.5, 1.0, 'Distribution of the review results (3 categories) with respect to ethnicity')]"
      ]
     },
     "execution_count": 119,
     "metadata": {},
     "output_type": "execute_result"
    },
    {
     "data": {
      "image/png": "[encoded data removed]",
      "text/plain": [
       "<Figure size 432x288 with 1 Axes>"
      ]
     },
     "metadata": {
      "image/png": {
       "height": 277,
       "width": 448
      },
      "needs_background": "light"
     },
     "output_type": "display_data"
    }
   ],
   "source": [
    "plot_6 = sns.histplot(data=replaced, x = \"mos_ethnicity\", hue=\"Result_ues\", multiple=\"dodge\", stat=\"density\")\n",
    "plot_6.set(title=\"Distribution of the review results (3 categories) with respect to ethnicity\")"
   ]
  },
  {
   "cell_type": "code",
   "execution_count": 120,
   "metadata": {},
   "outputs": [
    {
     "data": {
      "text/plain": [
       "[Text(0.5, 1.0, 'Distribution of the review results (2 categories) with respect to ethnicity')]"
      ]
     },
     "execution_count": 120,
     "metadata": {},
     "output_type": "execute_result"
    },
    {
     "data": {
      "image/png": "[encoded data removed]",
      "text/plain": [
       "<Figure size 432x288 with 1 Axes>"
      ]
     },
     "metadata": {
      "image/png": {
       "height": 277,
       "width": 448
      },
      "needs_background": "light"
     },
     "output_type": "display_data"
    }
   ],
   "source": [
    "plot_7 = sns.histplot(data=replaced, x = \"mos_ethnicity\", hue=\"Result\", multiple=\"dodge\", stat=\"density\")\n",
    "plot_7.set(title=\"Distribution of the review results (2 categories) with respect to ethnicity\")"
   ]
  },
  {
   "cell_type": "markdown",
   "metadata": {},
   "source": [
    "* Distribution of the officer ethnicity with respect to promotion status for all cases"
   ]
  },
  {
   "cell_type": "code",
   "execution_count": 121,
   "metadata": {},
   "outputs": [
    {
     "data": {
      "text/plain": [
       "[Text(0.5, 1.0, 'Distribution of the officer ethnicity with respect to promotion status for substantiated cases')]"
      ]
     },
     "execution_count": 121,
     "metadata": {},
     "output_type": "execute_result"
    },
    {
     "data": {
      "image/png": "[encoded data removed]",
      "text/plain": [
       "<Figure size 432x288 with 1 Axes>"
      ]
     },
     "metadata": {
      "image/png": {
       "height": 277,
       "width": 565
      },
      "needs_background": "light"
     },
     "output_type": "display_data"
    }
   ],
   "source": [
    "plot_10 = sns.histplot(data=replaced, x = \"promotion\", hue=\"mos_ethnicity\",multiple=\"dodge\",stat=\"density\")\n",
    "plot_10.set(title=\"Distribution of the officer ethnicity with respect to promotion status for substantiated cases\")"
   ]
  },
  {
   "cell_type": "markdown",
   "metadata": {},
   "source": [
    "* Distribution of the officer ethnicity with respect to promotion status for substantiated cases"
   ]
  },
  {
   "cell_type": "code",
   "execution_count": 122,
   "metadata": {},
   "outputs": [],
   "source": [
    "substantiated = replaced[replaced[\"Result\"] == \"Substantiated\"]"
   ]
  },
  {
   "cell_type": "code",
   "execution_count": 123,
   "metadata": {},
   "outputs": [
    {
     "data": {
      "text/plain": [
       "[Text(0.5, 1.0, 'Distribution of the officer ethnicity with respect to promotion status for substantiated cases')]"
      ]
     },
     "execution_count": 123,
     "metadata": {},
     "output_type": "execute_result"
    },
    {
     "data": {
      "image/png": "[encoded data removed]",
      "text/plain": [
       "<Figure size 432x288 with 1 Axes>"
      ]
     },
     "metadata": {
      "image/png": {
       "height": 277,
       "width": 565
      },
      "needs_background": "light"
     },
     "output_type": "display_data"
    }
   ],
   "source": [
    "plot_8_6 = sns.histplot(data=substantiated, x = \"promotion\", hue=\"mos_ethnicity\",multiple=\"dodge\",stat=\"density\")\n",
    "plot_8_6.set(title=\"Distribution of the officer ethnicity with respect to promotion status for substantiated cases\")"
   ]
  },
  {
   "cell_type": "markdown",
   "metadata": {},
   "source": [
    "#### 5. Interesting Aggregation"
   ]
  },
  {
   "cell_type": "markdown",
   "metadata": {},
   "source": [
    "* Use the dataset with only substantiated cases which is more relevant to our question\n",
    "* Aggregate on unique_mos_id to get the statistics in officers instead of complaints"
   ]
  },
  {
   "cell_type": "code",
   "execution_count": 103,
   "metadata": {},
   "outputs": [
    {
     "data": {
      "text/html": [
       "<div>\n",
       "<style scoped>\n",
       "    .dataframe tbody tr th:only-of-type {\n",
       "        vertical-align: middle;\n",
       "    }\n",
       "\n",
       "    .dataframe tbody tr th {\n",
       "        vertical-align: top;\n",
       "    }\n",
       "\n",
       "    .dataframe thead th {\n",
       "        text-align: right;\n",
       "    }\n",
       "</style>\n",
       "<table border=\"1\" class=\"dataframe\">\n",
       "  <thead>\n",
       "    <tr style=\"text-align: right;\">\n",
       "      <th></th>\n",
       "      <th>unique_mos_id</th>\n",
       "      <th>mos_ethnicity</th>\n",
       "      <th>promotion_status</th>\n",
       "      <th>promotion</th>\n",
       "    </tr>\n",
       "  </thead>\n",
       "  <tbody>\n",
       "    <tr>\n",
       "      <th>0</th>\n",
       "      <td>2</td>\n",
       "      <td>Hispanic</td>\n",
       "      <td>True</td>\n",
       "      <td>promoted</td>\n",
       "    </tr>\n",
       "    <tr>\n",
       "      <th>1</th>\n",
       "      <td>5</td>\n",
       "      <td>Hispanic</td>\n",
       "      <td>False</td>\n",
       "      <td>unpromoted</td>\n",
       "    </tr>\n",
       "    <tr>\n",
       "      <th>2</th>\n",
       "      <td>11</td>\n",
       "      <td>White</td>\n",
       "      <td>True</td>\n",
       "      <td>promoted</td>\n",
       "    </tr>\n",
       "    <tr>\n",
       "      <th>3</th>\n",
       "      <td>21</td>\n",
       "      <td>White</td>\n",
       "      <td>False</td>\n",
       "      <td>unpromoted</td>\n",
       "    </tr>\n",
       "    <tr>\n",
       "      <th>4</th>\n",
       "      <td>23</td>\n",
       "      <td>White</td>\n",
       "      <td>False</td>\n",
       "      <td>unpromoted</td>\n",
       "    </tr>\n",
       "    <tr>\n",
       "      <th>...</th>\n",
       "      <td>...</td>\n",
       "      <td>...</td>\n",
       "      <td>...</td>\n",
       "      <td>...</td>\n",
       "    </tr>\n",
       "    <tr>\n",
       "      <th>3991</th>\n",
       "      <td>36301</td>\n",
       "      <td>Hispanic</td>\n",
       "      <td>False</td>\n",
       "      <td>unpromoted</td>\n",
       "    </tr>\n",
       "    <tr>\n",
       "      <th>3992</th>\n",
       "      <td>36305</td>\n",
       "      <td>Hispanic</td>\n",
       "      <td>False</td>\n",
       "      <td>unpromoted</td>\n",
       "    </tr>\n",
       "    <tr>\n",
       "      <th>3993</th>\n",
       "      <td>36317</td>\n",
       "      <td>Hispanic</td>\n",
       "      <td>True</td>\n",
       "      <td>promoted</td>\n",
       "    </tr>\n",
       "    <tr>\n",
       "      <th>3994</th>\n",
       "      <td>36339</td>\n",
       "      <td>Asian</td>\n",
       "      <td>False</td>\n",
       "      <td>unpromoted</td>\n",
       "    </tr>\n",
       "    <tr>\n",
       "      <th>3995</th>\n",
       "      <td>36374</td>\n",
       "      <td>Hispanic</td>\n",
       "      <td>True</td>\n",
       "      <td>promoted</td>\n",
       "    </tr>\n",
       "  </tbody>\n",
       "</table>\n",
       "<p>3996 rows × 4 columns</p>\n",
       "</div>"
      ],
      "text/plain": [
       "      unique_mos_id mos_ethnicity  promotion_status   promotion\n",
       "0                 2      Hispanic              True    promoted\n",
       "1                 5      Hispanic             False  unpromoted\n",
       "2                11         White              True    promoted\n",
       "3                21         White             False  unpromoted\n",
       "4                23         White             False  unpromoted\n",
       "...             ...           ...               ...         ...\n",
       "3991          36301      Hispanic             False  unpromoted\n",
       "3992          36305      Hispanic             False  unpromoted\n",
       "3993          36317      Hispanic              True    promoted\n",
       "3994          36339         Asian             False  unpromoted\n",
       "3995          36374      Hispanic              True    promoted\n",
       "\n",
       "[3996 rows x 4 columns]"
      ]
     },
     "execution_count": 103,
     "metadata": {},
     "output_type": "execute_result"
    }
   ],
   "source": [
    "# Look at the statistics of substantiated cases only\n",
    "a_ethn_promo_s = substantiated[[\"unique_mos_id\", \"mos_ethnicity\", \"promotion_status\"]]\n",
    "a_ethn_promo_s = a_ethn_promo_s.groupby(['unique_mos_id',\"mos_ethnicity\"], \n",
    "                    as_index = False).aggregate(lambda x: True if x.sum() > 0 else False)\n",
    "a_ethn_promo_s[\"promotion\"] = np.where(a_ethn_promo_s[\"promotion_status\"] == True, \"promoted\", \"unpromoted\")\n",
    "a_ethn_promo_s"
   ]
  },
  {
   "cell_type": "markdown",
   "metadata": {},
   "source": [
    "* Generate the pivot table with two distributions: promoted (True) and unpromoted (False)"
   ]
  },
  {
   "cell_type": "code",
   "execution_count": 104,
   "metadata": {},
   "outputs": [
    {
     "data": {
      "text/html": [
       "<div>\n",
       "<style scoped>\n",
       "    .dataframe tbody tr th:only-of-type {\n",
       "        vertical-align: middle;\n",
       "    }\n",
       "\n",
       "    .dataframe tbody tr th {\n",
       "        vertical-align: top;\n",
       "    }\n",
       "\n",
       "    .dataframe thead th {\n",
       "        text-align: right;\n",
       "    }\n",
       "</style>\n",
       "<table border=\"1\" class=\"dataframe\">\n",
       "  <thead>\n",
       "    <tr style=\"text-align: right;\">\n",
       "      <th>mos_ethnicity</th>\n",
       "      <th>American Indian</th>\n",
       "      <th>Asian</th>\n",
       "      <th>Black</th>\n",
       "      <th>Hispanic</th>\n",
       "      <th>White</th>\n",
       "    </tr>\n",
       "    <tr>\n",
       "      <th>promotion_status</th>\n",
       "      <th></th>\n",
       "      <th></th>\n",
       "      <th></th>\n",
       "      <th></th>\n",
       "      <th></th>\n",
       "    </tr>\n",
       "  </thead>\n",
       "  <tbody>\n",
       "    <tr>\n",
       "      <th>False</th>\n",
       "      <td>0.000895</td>\n",
       "      <td>0.052372</td>\n",
       "      <td>0.159803</td>\n",
       "      <td>0.310206</td>\n",
       "      <td>0.476723</td>\n",
       "    </tr>\n",
       "    <tr>\n",
       "      <th>True</th>\n",
       "      <td>0.000568</td>\n",
       "      <td>0.039160</td>\n",
       "      <td>0.136209</td>\n",
       "      <td>0.261635</td>\n",
       "      <td>0.562429</td>\n",
       "    </tr>\n",
       "  </tbody>\n",
       "</table>\n",
       "</div>"
      ],
      "text/plain": [
       "mos_ethnicity     American Indian     Asian     Black  Hispanic     White\n",
       "promotion_status                                                         \n",
       "False                    0.000895  0.052372  0.159803  0.310206  0.476723\n",
       "True                     0.000568  0.039160  0.136209  0.261635  0.562429"
      ]
     },
     "execution_count": 104,
     "metadata": {},
     "output_type": "execute_result"
    }
   ],
   "source": [
    "all_ethn = a_ethn_promo_s.pivot_table(index=\"promotion_status\", columns=\"mos_ethnicity\", \n",
    "                                        aggfunc=\"size\").apply(lambda x: x/x.sum(), axis=1)\n",
    "all_ethn"
   ]
  },
  {
   "cell_type": "code",
   "execution_count": 116,
   "metadata": {},
   "outputs": [
    {
     "data": {
      "text/plain": [
       "[Text(0.5, 1.0, 'Distribution of the officer ethnicity with respect to promotion status for substantiated cases')]"
      ]
     },
     "execution_count": 116,
     "metadata": {},
     "output_type": "execute_result"
    },
    {
     "data": {
      "image/png": "[encoded data removed]",
      "text/plain": [
       "<Figure size 432x288 with 1 Axes>"
      ]
     },
     "metadata": {
      "image/png": {
       "height": 277,
       "width": 565
      },
      "needs_background": "light"
     },
     "output_type": "display_data"
    }
   ],
   "source": [
    "plot_9 = sns.histplot(data=a_ethn_promo_s, x= \"promotion\", hue=\"mos_ethnicity\",multiple=\"dodge\",stat=\"density\")\n",
    "plot_9.set(title=\"Distribution of the officer ethnicity with respect to promotion status for substantiated cases\")"
   ]
  },
  {
   "cell_type": "markdown",
   "metadata": {},
   "source": [
    "### Assessment of Missingness"
   ]
  },
  {
   "cell_type": "markdown",
   "metadata": {},
   "source": [
    "* We looked at all the columns that have missing values"
   ]
  },
  {
   "cell_type": "code",
   "execution_count": 106,
   "metadata": {},
   "outputs": [
    {
     "data": {
      "text/plain": [
       "Index(['command_at_incident', 'complainant_ethnicity', 'complainant_gender',\n",
       "       'complainant_age_incident', 'allegation', 'precinct', 'contact_reason',\n",
       "       'outcome_description'],\n",
       "      dtype='object')"
      ]
     },
     "execution_count": 106,
     "metadata": {},
     "output_type": "execute_result"
    }
   ],
   "source": [
    "boolean = [replaced[column].isnull().sum() > 0 for column in replaced.columns]\n",
    "replaced.columns[boolean]"
   ]
  },
  {
   "cell_type": "markdown",
   "metadata": {},
   "source": [
    "* Create a column with boolean to indicate if outcome_description is missing, for later shuffling"
   ]
  },
  {
   "cell_type": "code",
   "execution_count": 107,
   "metadata": {},
   "outputs": [],
   "source": [
    "replaced['outcome_description_missing'] = replaced['outcome_description'].isnull()"
   ]
  },
  {
   "cell_type": "markdown",
   "metadata": {},
   "source": [
    "* Define and use the function to use permutation to calculate the p-value of outcome_description missingness dependent on another input column"
   ]
  },
  {
   "cell_type": "code",
   "execution_count": 108,
   "metadata": {},
   "outputs": [],
   "source": [
    "def MAR(df, column):\n",
    "    police_miss = df.copy()\n",
    "    obs_df = police_miss.pivot_table(index=[\"outcome_description_missing\"], \n",
    "                                     columns=[column], aggfunc = \"size\").apply(lambda x: x/x.sum(), axis=1)\n",
    "    obs = obs_df.fillna(0).diff().iloc[-1].abs().sum()/2\n",
    "    print('observed_tvd:',obs)\n",
    "\n",
    "    # permute to calculate random tvd\n",
    "    tvd_total = []\n",
    "    color_permu = np.column_stack([np.random.permutation(police_miss[\"outcome_description_missing\"].values) \n",
    "                                   for i in range(1000)]).T\n",
    "    for simu in color_permu:\n",
    "        police_miss[\"outcome_description_missing\"] = simu\n",
    "        simu_df = police_miss.pivot_table(index=[\"outcome_description_missing\"],\n",
    "                                          columns=[column], aggfunc = \"size\").apply(lambda x: x/x.sum(), axis=1)\n",
    "        simu_tvd = simu_df.fillna(0).diff().iloc[-1].abs().sum()/2\n",
    "        tvd_total.append(simu_tvd)\n",
    "        \n",
    "    # Calculate proportion of permuted tvd bigger than observed\n",
    "    tvd_total = pd.Series(tvd_total)        \n",
    "    pval = (tvd_total >= obs).sum() / 1000\n",
    "    return pval"
   ]
  },
  {
   "cell_type": "markdown",
   "metadata": {},
   "source": [
    "* Look at the data with histogram to show the difference"
   ]
  },
  {
   "cell_type": "code",
   "execution_count": 109,
   "metadata": {},
   "outputs": [
    {
     "data": {
      "text/plain": [
       "<AxesSubplot:xlabel='mos_gender', ylabel='Density'>"
      ]
     },
     "execution_count": 109,
     "metadata": {},
     "output_type": "execute_result"
    },
    {
     "data": {
      "image/png": "[encoded data removed]",
      "text/plain": [
       "<Figure size 432x288 with 1 Axes>"
      ]
     },
     "metadata": {
      "image/png": {
       "height": 262,
       "width": 385
      },
      "needs_background": "light"
     },
     "output_type": "display_data"
    }
   ],
   "source": [
    "sns.histplot(data=replaced, x=\"mos_gender\", hue=\"outcome_description_missing\", stat=\"density\")"
   ]
  },
  {
   "cell_type": "code",
   "execution_count": 110,
   "metadata": {},
   "outputs": [
    {
     "data": {
      "text/plain": [
       "<AxesSubplot:xlabel='year_received', ylabel='Density'>"
      ]
     },
     "execution_count": 110,
     "metadata": {},
     "output_type": "execute_result"
    },
    {
     "data": {
      "image/png": "[encoded data removed]",
      "text/plain": [
       "<Figure size 432x288 with 1 Axes>"
      ]
     },
     "metadata": {
      "image/png": {
       "height": 262,
       "width": 391
      },
      "needs_background": "light"
     },
     "output_type": "display_data"
    }
   ],
   "source": [
    "sns.histplot(data=replaced, x=\"year_received\", hue=\"outcome_description_missing\", stat=\"density\")"
   ]
  },
  {
   "cell_type": "markdown",
   "metadata": {},
   "source": [
    "* Find the pvalue of outcome_description missingness with mos_gender\n"
   ]
  },
  {
   "cell_type": "code",
   "execution_count": 111,
   "metadata": {},
   "outputs": [
    {
     "name": "stdout",
     "output_type": "stream",
     "text": [
      "observed_tvd: 0.05447334780407866\n"
     ]
    },
    {
     "data": {
      "text/plain": [
       "0.086"
      ]
     },
     "execution_count": 111,
     "metadata": {},
     "output_type": "execute_result"
    }
   ],
   "source": [
    "MAR(replaced, 'mos_gender')"
   ]
  },
  {
   "cell_type": "markdown",
   "metadata": {},
   "source": [
    "* Find the pvalue of outcome_description missing with year_received\n"
   ]
  },
  {
   "cell_type": "code",
   "execution_count": 112,
   "metadata": {},
   "outputs": [
    {
     "name": "stdout",
     "output_type": "stream",
     "text": [
      "observed_tvd: 0.695392597613185\n"
     ]
    },
    {
     "data": {
      "text/plain": [
       "0.0"
      ]
     },
     "execution_count": 112,
     "metadata": {},
     "output_type": "execute_result"
    }
   ],
   "source": [
    "MAR(replaced, 'year_received')"
   ]
  },
  {
   "cell_type": "markdown",
   "metadata": {},
   "source": [
    "### Hypothesis Test"
   ]
  },
  {
   "cell_type": "markdown",
   "metadata": {},
   "source": [
    "* A function to calculate the p-value of the hypothesis test, print out the observed TVD, and plot out the null distribution"
   ]
  },
  {
   "cell_type": "code",
   "execution_count": 124,
   "metadata": {},
   "outputs": [],
   "source": [
    "def permutation(df):\n",
    "    police_miss = df.copy()\n",
    "    obs_df = police_miss.pivot_table(index=\"promotion_status\", \n",
    "                                     columns='mos_ethnicity', \n",
    "                                     aggfunc = \"size\").apply(lambda x: x/x.sum(), axis=1)\n",
    "    obs = obs_df.fillna(0).diff().iloc[-1].abs().sum()/2\n",
    "    print('observed_tvd: ', obs)\n",
    "\n",
    "    # shuffle for null distribution\n",
    "    tvd_total = []\n",
    "    color_permu = np.column_stack([np.random.permutation(police_miss[\"promotion_status\"].values)\n",
    "                                   for i in range(1000)]).T\n",
    "    for simu in color_permu:\n",
    "        police_miss[\"promotion_status\"] = simu\n",
    "        simu_df = police_miss.pivot_table(index=[\"promotion_status\"], \n",
    "                                          columns=['mos_ethnicity'], \n",
    "                                          aggfunc = \"size\").apply(lambda x: x/x.sum(), axis=1)\n",
    "        simu_tvd = simu_df.fillna(0).diff().iloc[-1].abs().sum()/2\n",
    "        tvd_total.append(simu_tvd)\n",
    "\n",
    "    plt.hist(tvd_total, density = True)\n",
    "    plt.axvline(x=obs, color=\"r\")\n",
    "    tvd_total = pd.Series(tvd_total)        \n",
    "    pval = (tvd_total >= obs).sum() / 1000\n",
    "    return pval"
   ]
  },
  {
   "cell_type": "markdown",
   "metadata": {},
   "source": [
    "* Calculate the P-value\n",
    "* Plot the simulated TVD and mark the observed TVD with a red line"
   ]
  },
  {
   "cell_type": "code",
   "execution_count": 125,
   "metadata": {},
   "outputs": [
    {
     "name": "stdout",
     "output_type": "stream",
     "text": [
      "observed_tvd:  0.08570569172940734\n"
     ]
    },
    {
     "data": {
      "text/plain": [
       "0.0"
      ]
     },
     "execution_count": 125,
     "metadata": {},
     "output_type": "execute_result"
    },
    {
     "data": {
      "image/png": "[encoded data removed]",
      "text/plain": [
       "<Figure size 432x288 with 1 Axes>"
      ]
     },
     "metadata": {
      "image/png": {
       "height": 248,
       "width": 368
      },
      "needs_background": "light"
     },
     "output_type": "display_data"
    }
   ],
   "source": [
    "permutation(a_ethn_promo_s)"
   ]
  },
  {
   "cell_type": "markdown",
   "metadata": {},
   "source": [
    "#### discuss uncertainty of your result and possible shortcomings of your approach."
   ]
  },
  {
   "cell_type": "markdown",
   "metadata": {},
   "source": [
    "- Uncertainty of result: \n",
    "    - we subjectively decided the level of some ranks that were not in the provided table (CCC, DET), and that might have an impact on the calculation of whether officer has been promoted\n",
    "    - the distinction of some police rank are not clear in the appendix and also difficult to find online (SSA, SDS). After exploring the dataset, we subjectively decide that SDS is higher than SSA since most officers get from SSA to SDS, and we think they are likely to be promoted instead of being depromoted.\n",
    "\n",
    "\n",
    "\n",
    "- Shortcomings: \n",
    "    - there are many factors that might affect each officer's chance of getting promoted: their own abilities, working ethics, etc. Being white or not after a substantiated report might not be the only, or the decisive, factor."
   ]
  },
  {
   "cell_type": "markdown",
   "metadata": {},
   "source": [
    "# Conclusion\n",
    "We might improve our work by collecting data related to the working ethics and experiencee of each officer, thus elimininating more cofactors for promotion, also by including officers with only unsubstantiated or exonerated cases and see if they have a higher chance of getting promoted than substantiated officers."
   ]
  },
  {
   "cell_type": "code",
   "execution_count": null,
   "metadata": {},
   "outputs": [],
   "source": []
  }
 ],
 "metadata": {
  "kernelspec": {
   "display_name": "Python 3",
   "language": "python",
   "name": "python3"
  },
  "language_info": {
   "codemirror_mode": {
    "name": "ipython",
    "version": 3
   },
   "file_extension": ".py",
   "mimetype": "text/x-python",
   "name": "python",
   "nbconvert_exporter": "python",
   "pygments_lexer": "ipython3",
   "version": "3.8.5"
  }
 },
 "nbformat": 4,
 "nbformat_minor": 2
}
